{
 "cells": [
  {
   "cell_type": "code",
   "execution_count": 111,
   "id": "ff92806e",
   "metadata": {},
   "outputs": [],
   "source": [
    "from datetime import date\n",
    "\n",
    "import altair as alt\n",
    "import pandas as pd\n",
    "import matplotlib.pyplot as plt"
   ]
  },
  {
   "cell_type": "code",
   "execution_count": 112,
   "id": "bd6786a0",
   "metadata": {},
   "outputs": [
    {
     "data": {
      "text/html": [
       "<div>\n",
       "<style scoped>\n",
       "    .dataframe tbody tr th:only-of-type {\n",
       "        vertical-align: middle;\n",
       "    }\n",
       "\n",
       "    .dataframe tbody tr th {\n",
       "        vertical-align: top;\n",
       "    }\n",
       "\n",
       "    .dataframe thead th {\n",
       "        text-align: right;\n",
       "    }\n",
       "</style>\n",
       "<table border=\"1\" class=\"dataframe\">\n",
       "  <thead>\n",
       "    <tr style=\"text-align: right;\">\n",
       "      <th></th>\n",
       "      <th>Year</th>\n",
       "      <th>Data source</th>\n",
       "      <th>Number of executions</th>\n",
       "    </tr>\n",
       "  </thead>\n",
       "  <tbody>\n",
       "    <tr>\n",
       "      <th>10</th>\n",
       "      <td>1991-01-01</td>\n",
       "      <td>Jeannette Chong-Aruldoss</td>\n",
       "      <td>6.0</td>\n",
       "    </tr>\n",
       "    <tr>\n",
       "      <th>11</th>\n",
       "      <td>1992-01-01</td>\n",
       "      <td>Jeannette Chong-Aruldoss</td>\n",
       "      <td>21.0</td>\n",
       "    </tr>\n",
       "    <tr>\n",
       "      <th>12</th>\n",
       "      <td>1993-01-01</td>\n",
       "      <td>Jeannette Chong-Aruldoss</td>\n",
       "      <td>7.0</td>\n",
       "    </tr>\n",
       "    <tr>\n",
       "      <th>13</th>\n",
       "      <td>1994-01-01</td>\n",
       "      <td>Jeannette Chong-Aruldoss</td>\n",
       "      <td>76.0</td>\n",
       "    </tr>\n",
       "    <tr>\n",
       "      <th>14</th>\n",
       "      <td>1995-01-01</td>\n",
       "      <td>Jeannette Chong-Aruldoss</td>\n",
       "      <td>73.0</td>\n",
       "    </tr>\n",
       "  </tbody>\n",
       "</table>\n",
       "</div>"
      ],
      "text/plain": [
       "         Year               Data source  Number of executions\n",
       "10 1991-01-01  Jeannette Chong-Aruldoss                   6.0\n",
       "11 1992-01-01  Jeannette Chong-Aruldoss                  21.0\n",
       "12 1993-01-01  Jeannette Chong-Aruldoss                   7.0\n",
       "13 1994-01-01  Jeannette Chong-Aruldoss                  76.0\n",
       "14 1995-01-01  Jeannette Chong-Aruldoss                  73.0"
      ]
     },
     "execution_count": 112,
     "metadata": {},
     "output_type": "execute_result"
    }
   ],
   "source": [
    "df = pd.read_csv('data/konti_capital_punishment_across_sources.csv')\n",
    "df.rename(\n",
    "  columns={\n",
    "  'Year\\Source': 'Year'},\n",
    "  inplace=True)\n",
    "\n",
    "ldf = pd.melt(df, id_vars=['Year'])\n",
    "ldf['Year'] = ldf.Year.astype(int)\n",
    "ldf = ldf[~ldf.value.isna()]\n",
    "ldf.rename(columns={\"variable\": \"Data source\",\n",
    "                    \"value\": \"Number of executions\"},\n",
    "           inplace=True)\n",
    "ldf[\"Year\"] = ldf.Year.apply(lambda x: str(x) + \"-01-01\")\n",
    "ldf[\"Year\"] = pd.to_datetime(ldf.Year)\n",
    "ldf.head()"
   ]
  },
  {
   "cell_type": "code",
   "execution_count": 113,
   "id": "1c9635a8",
   "metadata": {},
   "outputs": [
    {
     "data": {
      "text/html": [
       "<div>\n",
       "<style scoped>\n",
       "    .dataframe tbody tr th:only-of-type {\n",
       "        vertical-align: middle;\n",
       "    }\n",
       "\n",
       "    .dataframe tbody tr th {\n",
       "        vertical-align: top;\n",
       "    }\n",
       "\n",
       "    .dataframe thead th {\n",
       "        text-align: right;\n",
       "    }\n",
       "</style>\n",
       "<table border=\"1\" class=\"dataframe\">\n",
       "  <thead>\n",
       "    <tr style=\"text-align: right;\">\n",
       "      <th></th>\n",
       "      <th>Year</th>\n",
       "      <th>Data source</th>\n",
       "      <th>Number of executions</th>\n",
       "    </tr>\n",
       "  </thead>\n",
       "  <tbody>\n",
       "    <tr>\n",
       "      <th>0</th>\n",
       "      <td>1981-01-01</td>\n",
       "      <td>Tales of Two Cities</td>\n",
       "      <td>3.0</td>\n",
       "    </tr>\n",
       "    <tr>\n",
       "      <th>1</th>\n",
       "      <td>1982-01-01</td>\n",
       "      <td>Tales of Two Cities</td>\n",
       "      <td>0.0</td>\n",
       "    </tr>\n",
       "    <tr>\n",
       "      <th>2</th>\n",
       "      <td>1983-01-01</td>\n",
       "      <td>Tales of Two Cities</td>\n",
       "      <td>2.0</td>\n",
       "    </tr>\n",
       "    <tr>\n",
       "      <th>3</th>\n",
       "      <td>1984-01-01</td>\n",
       "      <td>Tales of Two Cities</td>\n",
       "      <td>2.0</td>\n",
       "    </tr>\n",
       "    <tr>\n",
       "      <th>4</th>\n",
       "      <td>1985-01-01</td>\n",
       "      <td>Tales of Two Cities</td>\n",
       "      <td>1.0</td>\n",
       "    </tr>\n",
       "  </tbody>\n",
       "</table>\n",
       "</div>"
      ],
      "text/plain": [
       "        Year          Data source  Number of executions\n",
       "0 1981-01-01  Tales of Two Cities                   3.0\n",
       "1 1982-01-01  Tales of Two Cities                   0.0\n",
       "2 1983-01-01  Tales of Two Cities                   2.0\n",
       "3 1984-01-01  Tales of Two Cities                   2.0\n",
       "4 1985-01-01  Tales of Two Cities                   1.0"
      ]
     },
     "execution_count": 113,
     "metadata": {},
     "output_type": "execute_result"
    }
   ],
   "source": [
    "df_grp = ldf.groupby(\"Year\").max().reset_index()\n",
    "df_grp.head()"
   ]
  },
  {
   "cell_type": "code",
   "execution_count": 114,
   "id": "2acb7e72",
   "metadata": {},
   "outputs": [
    {
     "data": {
      "text/html": [
       "\n",
       "<div id=\"altair-viz-80d86034bb46431a8982fd77186d9476\"></div>\n",
       "<script type=\"text/javascript\">\n",
       "  (function(spec, embedOpt){\n",
       "    let outputDiv = document.currentScript.previousElementSibling;\n",
       "    if (outputDiv.id !== \"altair-viz-80d86034bb46431a8982fd77186d9476\") {\n",
       "      outputDiv = document.getElementById(\"altair-viz-80d86034bb46431a8982fd77186d9476\");\n",
       "    }\n",
       "    const paths = {\n",
       "      \"vega\": \"https://cdn.jsdelivr.net/npm//vega@5?noext\",\n",
       "      \"vega-lib\": \"https://cdn.jsdelivr.net/npm//vega-lib?noext\",\n",
       "      \"vega-lite\": \"https://cdn.jsdelivr.net/npm//vega-lite@4.8.1?noext\",\n",
       "      \"vega-embed\": \"https://cdn.jsdelivr.net/npm//vega-embed@6?noext\",\n",
       "    };\n",
       "\n",
       "    function loadScript(lib) {\n",
       "      return new Promise(function(resolve, reject) {\n",
       "        var s = document.createElement('script');\n",
       "        s.src = paths[lib];\n",
       "        s.async = true;\n",
       "        s.onload = () => resolve(paths[lib]);\n",
       "        s.onerror = () => reject(`Error loading script: ${paths[lib]}`);\n",
       "        document.getElementsByTagName(\"head\")[0].appendChild(s);\n",
       "      });\n",
       "    }\n",
       "\n",
       "    function showError(err) {\n",
       "      outputDiv.innerHTML = `<div class=\"error\" style=\"color:red;\">${err}</div>`;\n",
       "      throw err;\n",
       "    }\n",
       "\n",
       "    function displayChart(vegaEmbed) {\n",
       "      vegaEmbed(outputDiv, spec, embedOpt)\n",
       "        .catch(err => showError(`Javascript Error: ${err.message}<br>This usually means there's a typo in your chart specification. See the javascript console for the full traceback.`));\n",
       "    }\n",
       "\n",
       "    if(typeof define === \"function\" && define.amd) {\n",
       "      requirejs.config({paths});\n",
       "      require([\"vega-embed\"], displayChart, err => showError(`Error loading script: ${err.message}`));\n",
       "    } else if (typeof vegaEmbed === \"function\") {\n",
       "      displayChart(vegaEmbed);\n",
       "    } else {\n",
       "      loadScript(\"vega\")\n",
       "        .then(() => loadScript(\"vega-lite\"))\n",
       "        .then(() => loadScript(\"vega-embed\"))\n",
       "        .catch(showError)\n",
       "        .then(() => displayChart(vegaEmbed));\n",
       "    }\n",
       "  })({\"config\": {\"view\": {\"continuousWidth\": 400, \"continuousHeight\": 300}}, \"layer\": [{\"data\": {\"name\": \"data-9bb919bcb6443ff14cd250f3d72eb103\"}, \"mark\": {\"type\": \"point\", \"opacity\": 0.5}, \"encoding\": {\"color\": {\"type\": \"nominal\", \"field\": \"Data source\"}, \"x\": {\"type\": \"temporal\", \"field\": \"Year\", \"scale\": {\"zero\": false}}, \"y\": {\"type\": \"quantitative\", \"field\": \"Number of executions\"}}}, {\"data\": {\"name\": \"data-bd84cc1bdfd740a96eb2b05d6df7674a\"}, \"mark\": \"line\", \"encoding\": {\"x\": {\"type\": \"temporal\", \"field\": \"Year\", \"scale\": {\"zero\": false}}, \"y\": {\"type\": \"quantitative\", \"field\": \"Number of executions\"}}}], \"$schema\": \"https://vega.github.io/schema/vega-lite/v4.8.1.json\", \"datasets\": {\"data-9bb919bcb6443ff14cd250f3d72eb103\": [{\"Year\": \"1991-01-01T00:00:00\", \"Data source\": \"Jeannette Chong-Aruldoss\", \"Number of executions\": 6.0}, {\"Year\": \"1992-01-01T00:00:00\", \"Data source\": \"Jeannette Chong-Aruldoss\", \"Number of executions\": 21.0}, {\"Year\": \"1993-01-01T00:00:00\", \"Data source\": \"Jeannette Chong-Aruldoss\", \"Number of executions\": 7.0}, {\"Year\": \"1994-01-01T00:00:00\", \"Data source\": \"Jeannette Chong-Aruldoss\", \"Number of executions\": 76.0}, {\"Year\": \"1995-01-01T00:00:00\", \"Data source\": \"Jeannette Chong-Aruldoss\", \"Number of executions\": 73.0}, {\"Year\": \"1996-01-01T00:00:00\", \"Data source\": \"Jeannette Chong-Aruldoss\", \"Number of executions\": 50.0}, {\"Year\": \"1997-01-01T00:00:00\", \"Data source\": \"Jeannette Chong-Aruldoss\", \"Number of executions\": 15.0}, {\"Year\": \"1998-01-01T00:00:00\", \"Data source\": \"Jeannette Chong-Aruldoss\", \"Number of executions\": 28.0}, {\"Year\": \"1999-01-01T00:00:00\", \"Data source\": \"Jeannette Chong-Aruldoss\", \"Number of executions\": 43.0}, {\"Year\": \"2000-01-01T00:00:00\", \"Data source\": \"Jeannette Chong-Aruldoss\", \"Number of executions\": 21.0}, {\"Year\": \"2001-01-01T00:00:00\", \"Data source\": \"Jeannette Chong-Aruldoss\", \"Number of executions\": 27.0}, {\"Year\": \"2002-01-01T00:00:00\", \"Data source\": \"Jeannette Chong-Aruldoss\", \"Number of executions\": 28.0}, {\"Year\": \"2003-01-01T00:00:00\", \"Data source\": \"Jeannette Chong-Aruldoss\", \"Number of executions\": 19.0}, {\"Year\": \"2004-01-01T00:00:00\", \"Data source\": \"Jeannette Chong-Aruldoss\", \"Number of executions\": 8.0}, {\"Year\": \"2005-01-01T00:00:00\", \"Data source\": \"Jeannette Chong-Aruldoss\", \"Number of executions\": 8.0}, {\"Year\": \"2006-01-01T00:00:00\", \"Data source\": \"Jeannette Chong-Aruldoss\", \"Number of executions\": 8.0}, {\"Year\": \"2007-01-01T00:00:00\", \"Data source\": \"Jeannette Chong-Aruldoss\", \"Number of executions\": 3.0}, {\"Year\": \"2008-01-01T00:00:00\", \"Data source\": \"Jeannette Chong-Aruldoss\", \"Number of executions\": 6.0}, {\"Year\": \"2009-01-01T00:00:00\", \"Data source\": \"Jeannette Chong-Aruldoss\", \"Number of executions\": 5.0}, {\"Year\": \"2010-01-01T00:00:00\", \"Data source\": \"Jeannette Chong-Aruldoss\", \"Number of executions\": 0.0}, {\"Year\": \"2011-01-01T00:00:00\", \"Data source\": \"Jeannette Chong-Aruldoss\", \"Number of executions\": 4.0}, {\"Year\": \"2012-01-01T00:00:00\", \"Data source\": \"Jeannette Chong-Aruldoss\", \"Number of executions\": 0.0}, {\"Year\": \"2013-01-01T00:00:00\", \"Data source\": \"Jeannette Chong-Aruldoss\", \"Number of executions\": 0.0}, {\"Year\": \"2014-01-01T00:00:00\", \"Data source\": \"Jeannette Chong-Aruldoss\", \"Number of executions\": 2.0}, {\"Year\": \"2015-01-01T00:00:00\", \"Data source\": \"Jeannette Chong-Aruldoss\", \"Number of executions\": 4.0}, {\"Year\": \"2016-01-01T00:00:00\", \"Data source\": \"Jeannette Chong-Aruldoss\", \"Number of executions\": 4.0}, {\"Year\": \"2017-01-01T00:00:00\", \"Data source\": \"Jeannette Chong-Aruldoss\", \"Number of executions\": 8.0}, {\"Year\": \"2018-01-01T00:00:00\", \"Data source\": \"Jeannette Chong-Aruldoss\", \"Number of executions\": 13.0}, {\"Year\": \"2019-01-01T00:00:00\", \"Data source\": \"Jeannette Chong-Aruldoss\", \"Number of executions\": 4.0}, {\"Year\": \"1981-01-01T00:00:00\", \"Data source\": \"Tales of Two Cities\", \"Number of executions\": 3.0}, {\"Year\": \"1982-01-01T00:00:00\", \"Data source\": \"Tales of Two Cities\", \"Number of executions\": 0.0}, {\"Year\": \"1983-01-01T00:00:00\", \"Data source\": \"Tales of Two Cities\", \"Number of executions\": 2.0}, {\"Year\": \"1984-01-01T00:00:00\", \"Data source\": \"Tales of Two Cities\", \"Number of executions\": 2.0}, {\"Year\": \"1985-01-01T00:00:00\", \"Data source\": \"Tales of Two Cities\", \"Number of executions\": 1.0}, {\"Year\": \"1986-01-01T00:00:00\", \"Data source\": \"Tales of Two Cities\", \"Number of executions\": 1.0}, {\"Year\": \"1987-01-01T00:00:00\", \"Data source\": \"Tales of Two Cities\", \"Number of executions\": 0.0}, {\"Year\": \"1988-01-01T00:00:00\", \"Data source\": \"Tales of Two Cities\", \"Number of executions\": 4.0}, {\"Year\": \"1989-01-01T00:00:00\", \"Data source\": \"Tales of Two Cities\", \"Number of executions\": 5.0}, {\"Year\": \"1990-01-01T00:00:00\", \"Data source\": \"Tales of Two Cities\", \"Number of executions\": 3.0}, {\"Year\": \"1991-01-01T00:00:00\", \"Data source\": \"Tales of Two Cities\", \"Number of executions\": 6.0}, {\"Year\": \"1992-01-01T00:00:00\", \"Data source\": \"Tales of Two Cities\", \"Number of executions\": 21.0}, {\"Year\": \"1993-01-01T00:00:00\", \"Data source\": \"Tales of Two Cities\", \"Number of executions\": 7.0}, {\"Year\": \"1994-01-01T00:00:00\", \"Data source\": \"Tales of Two Cities\", \"Number of executions\": 76.0}, {\"Year\": \"1995-01-01T00:00:00\", \"Data source\": \"Tales of Two Cities\", \"Number of executions\": 73.0}, {\"Year\": \"1996-01-01T00:00:00\", \"Data source\": \"Tales of Two Cities\", \"Number of executions\": 50.0}, {\"Year\": \"1997-01-01T00:00:00\", \"Data source\": \"Tales of Two Cities\", \"Number of executions\": 15.0}, {\"Year\": \"1998-01-01T00:00:00\", \"Data source\": \"Tales of Two Cities\", \"Number of executions\": 28.0}, {\"Year\": \"1999-01-01T00:00:00\", \"Data source\": \"Tales of Two Cities\", \"Number of executions\": 43.0}, {\"Year\": \"2000-01-01T00:00:00\", \"Data source\": \"Tales of Two Cities\", \"Number of executions\": 21.0}, {\"Year\": \"2001-01-01T00:00:00\", \"Data source\": \"Tales of Two Cities\", \"Number of executions\": 27.0}, {\"Year\": \"2002-01-01T00:00:00\", \"Data source\": \"Tales of Two Cities\", \"Number of executions\": 28.0}, {\"Year\": \"2003-01-01T00:00:00\", \"Data source\": \"Tales of Two Cities\", \"Number of executions\": 17.0}, {\"Year\": \"2004-01-01T00:00:00\", \"Data source\": \"Tales of Two Cities\", \"Number of executions\": 19.0}, {\"Year\": \"2005-01-01T00:00:00\", \"Data source\": \"Tales of Two Cities\", \"Number of executions\": 6.0}, {\"Year\": \"2006-01-01T00:00:00\", \"Data source\": \"Tales of Two Cities\", \"Number of executions\": 5.0}, {\"Year\": \"2007-01-01T00:00:00\", \"Data source\": \"Tales of Two Cities\", \"Number of executions\": 2.0}, {\"Year\": \"2007-01-01T00:00:00\", \"Data source\": \"data.gov.sg\", \"Number of executions\": 3.0}, {\"Year\": \"2008-01-01T00:00:00\", \"Data source\": \"data.gov.sg\", \"Number of executions\": 6.0}, {\"Year\": \"2009-01-01T00:00:00\", \"Data source\": \"data.gov.sg\", \"Number of executions\": 5.0}, {\"Year\": \"2010-01-01T00:00:00\", \"Data source\": \"data.gov.sg\", \"Number of executions\": 0.0}, {\"Year\": \"2011-01-01T00:00:00\", \"Data source\": \"data.gov.sg\", \"Number of executions\": 4.0}, {\"Year\": \"2012-01-01T00:00:00\", \"Data source\": \"data.gov.sg\", \"Number of executions\": 0.0}, {\"Year\": \"2013-01-01T00:00:00\", \"Data source\": \"data.gov.sg\", \"Number of executions\": 0.0}, {\"Year\": \"2014-01-01T00:00:00\", \"Data source\": \"data.gov.sg\", \"Number of executions\": 2.0}, {\"Year\": \"2015-01-01T00:00:00\", \"Data source\": \"data.gov.sg\", \"Number of executions\": 4.0}, {\"Year\": \"2016-01-01T00:00:00\", \"Data source\": \"data.gov.sg\", \"Number of executions\": 4.0}, {\"Year\": \"2017-01-01T00:00:00\", \"Data source\": \"data.gov.sg\", \"Number of executions\": 8.0}, {\"Year\": \"2018-01-01T00:00:00\", \"Data source\": \"data.gov.sg\", \"Number of executions\": 13.0}, {\"Year\": \"2019-01-01T00:00:00\", \"Data source\": \"data.gov.sg\", \"Number of executions\": 4.0}, {\"Year\": \"2020-01-01T00:00:00\", \"Data source\": \"data.gov.sg\", \"Number of executions\": 0.0}, {\"Year\": \"1991-01-01T00:00:00\", \"Data source\": \"Amnesty International\", \"Number of executions\": 6.0}, {\"Year\": \"1992-01-01T00:00:00\", \"Data source\": \"Amnesty International\", \"Number of executions\": 21.0}, {\"Year\": \"1993-01-01T00:00:00\", \"Data source\": \"Amnesty International\", \"Number of executions\": 7.0}, {\"Year\": \"1994-01-01T00:00:00\", \"Data source\": \"Amnesty International\", \"Number of executions\": 76.0}, {\"Year\": \"1995-01-01T00:00:00\", \"Data source\": \"Amnesty International\", \"Number of executions\": 73.0}, {\"Year\": \"1996-01-01T00:00:00\", \"Data source\": \"Amnesty International\", \"Number of executions\": 50.0}, {\"Year\": \"1997-01-01T00:00:00\", \"Data source\": \"Amnesty International\", \"Number of executions\": 15.0}, {\"Year\": \"1998-01-01T00:00:00\", \"Data source\": \"Amnesty International\", \"Number of executions\": 28.0}, {\"Year\": \"1999-01-01T00:00:00\", \"Data source\": \"Amnesty International\", \"Number of executions\": 43.0}, {\"Year\": \"2000-01-01T00:00:00\", \"Data source\": \"Amnesty International\", \"Number of executions\": 21.0}, {\"Year\": \"2001-01-01T00:00:00\", \"Data source\": \"Amnesty International\", \"Number of executions\": 27.0}, {\"Year\": \"2002-01-01T00:00:00\", \"Data source\": \"Amnesty International\", \"Number of executions\": 28.0}, {\"Year\": \"2003-01-01T00:00:00\", \"Data source\": \"Amnesty International\", \"Number of executions\": 13.0}, {\"Year\": \"2020-01-01T00:00:00\", \"Data source\": \"Amnesty International\", \"Number of executions\": 0.0}, {\"Year\": \"2007-01-01T00:00:00\", \"Data source\": \"Cornell Center on the Death Penalty Worldwide\", \"Number of executions\": 2.0}, {\"Year\": \"2008-01-01T00:00:00\", \"Data source\": \"Cornell Center on the Death Penalty Worldwide\", \"Number of executions\": 1.0}, {\"Year\": \"2009-01-01T00:00:00\", \"Data source\": \"Cornell Center on the Death Penalty Worldwide\", \"Number of executions\": 1.0}, {\"Year\": \"2010-01-01T00:00:00\", \"Data source\": \"Cornell Center on the Death Penalty Worldwide\", \"Number of executions\": 1.0}, {\"Year\": \"2011-01-01T00:00:00\", \"Data source\": \"Cornell Center on the Death Penalty Worldwide\", \"Number of executions\": 0.0}, {\"Year\": \"2012-01-01T00:00:00\", \"Data source\": \"Cornell Center on the Death Penalty Worldwide\", \"Number of executions\": 0.0}, {\"Year\": \"2013-01-01T00:00:00\", \"Data source\": \"Cornell Center on the Death Penalty Worldwide\", \"Number of executions\": 0.0}, {\"Year\": \"2014-01-01T00:00:00\", \"Data source\": \"Cornell Center on the Death Penalty Worldwide\", \"Number of executions\": 2.0}, {\"Year\": \"2015-01-01T00:00:00\", \"Data source\": \"Cornell Center on the Death Penalty Worldwide\", \"Number of executions\": 4.0}, {\"Year\": \"2016-01-01T00:00:00\", \"Data source\": \"Cornell Center on the Death Penalty Worldwide\", \"Number of executions\": 4.0}, {\"Year\": \"2017-01-01T00:00:00\", \"Data source\": \"Cornell Center on the Death Penalty Worldwide\", \"Number of executions\": 8.0}, {\"Year\": \"2018-01-01T00:00:00\", \"Data source\": \"Cornell Center on the Death Penalty Worldwide\", \"Number of executions\": 13.0}, {\"Year\": \"2019-01-01T00:00:00\", \"Data source\": \"Cornell Center on the Death Penalty Worldwide\", \"Number of executions\": 2.0}, {\"Year\": \"2020-01-01T00:00:00\", \"Data source\": \"Cornell Center on the Death Penalty Worldwide\", \"Number of executions\": 0.0}], \"data-bd84cc1bdfd740a96eb2b05d6df7674a\": [{\"Year\": \"1981-01-01T00:00:00\", \"Data source\": \"Tales of Two Cities\", \"Number of executions\": 3.0}, {\"Year\": \"1982-01-01T00:00:00\", \"Data source\": \"Tales of Two Cities\", \"Number of executions\": 0.0}, {\"Year\": \"1983-01-01T00:00:00\", \"Data source\": \"Tales of Two Cities\", \"Number of executions\": 2.0}, {\"Year\": \"1984-01-01T00:00:00\", \"Data source\": \"Tales of Two Cities\", \"Number of executions\": 2.0}, {\"Year\": \"1985-01-01T00:00:00\", \"Data source\": \"Tales of Two Cities\", \"Number of executions\": 1.0}, {\"Year\": \"1986-01-01T00:00:00\", \"Data source\": \"Tales of Two Cities\", \"Number of executions\": 1.0}, {\"Year\": \"1987-01-01T00:00:00\", \"Data source\": \"Tales of Two Cities\", \"Number of executions\": 0.0}, {\"Year\": \"1988-01-01T00:00:00\", \"Data source\": \"Tales of Two Cities\", \"Number of executions\": 4.0}, {\"Year\": \"1989-01-01T00:00:00\", \"Data source\": \"Tales of Two Cities\", \"Number of executions\": 5.0}, {\"Year\": \"1990-01-01T00:00:00\", \"Data source\": \"Tales of Two Cities\", \"Number of executions\": 3.0}, {\"Year\": \"1991-01-01T00:00:00\", \"Data source\": \"Tales of Two Cities\", \"Number of executions\": 6.0}, {\"Year\": \"1992-01-01T00:00:00\", \"Data source\": \"Tales of Two Cities\", \"Number of executions\": 21.0}, {\"Year\": \"1993-01-01T00:00:00\", \"Data source\": \"Tales of Two Cities\", \"Number of executions\": 7.0}, {\"Year\": \"1994-01-01T00:00:00\", \"Data source\": \"Tales of Two Cities\", \"Number of executions\": 76.0}, {\"Year\": \"1995-01-01T00:00:00\", \"Data source\": \"Tales of Two Cities\", \"Number of executions\": 73.0}, {\"Year\": \"1996-01-01T00:00:00\", \"Data source\": \"Tales of Two Cities\", \"Number of executions\": 50.0}, {\"Year\": \"1997-01-01T00:00:00\", \"Data source\": \"Tales of Two Cities\", \"Number of executions\": 15.0}, {\"Year\": \"1998-01-01T00:00:00\", \"Data source\": \"Tales of Two Cities\", \"Number of executions\": 28.0}, {\"Year\": \"1999-01-01T00:00:00\", \"Data source\": \"Tales of Two Cities\", \"Number of executions\": 43.0}, {\"Year\": \"2000-01-01T00:00:00\", \"Data source\": \"Tales of Two Cities\", \"Number of executions\": 21.0}, {\"Year\": \"2001-01-01T00:00:00\", \"Data source\": \"Tales of Two Cities\", \"Number of executions\": 27.0}, {\"Year\": \"2002-01-01T00:00:00\", \"Data source\": \"Tales of Two Cities\", \"Number of executions\": 28.0}, {\"Year\": \"2003-01-01T00:00:00\", \"Data source\": \"Tales of Two Cities\", \"Number of executions\": 19.0}, {\"Year\": \"2004-01-01T00:00:00\", \"Data source\": \"Tales of Two Cities\", \"Number of executions\": 19.0}, {\"Year\": \"2005-01-01T00:00:00\", \"Data source\": \"Tales of Two Cities\", \"Number of executions\": 8.0}, {\"Year\": \"2006-01-01T00:00:00\", \"Data source\": \"Tales of Two Cities\", \"Number of executions\": 8.0}, {\"Year\": \"2007-01-01T00:00:00\", \"Data source\": \"data.gov.sg\", \"Number of executions\": 3.0}, {\"Year\": \"2008-01-01T00:00:00\", \"Data source\": \"data.gov.sg\", \"Number of executions\": 6.0}, {\"Year\": \"2009-01-01T00:00:00\", \"Data source\": \"data.gov.sg\", \"Number of executions\": 5.0}, {\"Year\": \"2010-01-01T00:00:00\", \"Data source\": \"data.gov.sg\", \"Number of executions\": 1.0}, {\"Year\": \"2011-01-01T00:00:00\", \"Data source\": \"data.gov.sg\", \"Number of executions\": 4.0}, {\"Year\": \"2012-01-01T00:00:00\", \"Data source\": \"data.gov.sg\", \"Number of executions\": 0.0}, {\"Year\": \"2013-01-01T00:00:00\", \"Data source\": \"data.gov.sg\", \"Number of executions\": 0.0}, {\"Year\": \"2014-01-01T00:00:00\", \"Data source\": \"data.gov.sg\", \"Number of executions\": 2.0}, {\"Year\": \"2015-01-01T00:00:00\", \"Data source\": \"data.gov.sg\", \"Number of executions\": 4.0}, {\"Year\": \"2016-01-01T00:00:00\", \"Data source\": \"data.gov.sg\", \"Number of executions\": 4.0}, {\"Year\": \"2017-01-01T00:00:00\", \"Data source\": \"data.gov.sg\", \"Number of executions\": 8.0}, {\"Year\": \"2018-01-01T00:00:00\", \"Data source\": \"data.gov.sg\", \"Number of executions\": 13.0}, {\"Year\": \"2019-01-01T00:00:00\", \"Data source\": \"data.gov.sg\", \"Number of executions\": 4.0}, {\"Year\": \"2020-01-01T00:00:00\", \"Data source\": \"data.gov.sg\", \"Number of executions\": 0.0}]}}, {\"mode\": \"vega-lite\"});\n",
       "</script>"
      ],
      "text/plain": [
       "alt.LayerChart(...)"
      ]
     },
     "execution_count": 114,
     "metadata": {},
     "output_type": "execute_result"
    }
   ],
   "source": [
    "sources = alt.Chart(ldf).mark_point(opacity=0.5).encode(\n",
    "  alt.X('Year',\n",
    "        scale=alt.Scale(zero=False)\n",
    "    ),\n",
    "  y='Number of executions:Q',\n",
    "  color='Data source:N')\n",
    "max_line = alt.Chart(df_grp).mark_line().encode(\n",
    "  alt.X('Year',\n",
    "        scale=alt.Scale(zero=False)\n",
    "    ),\n",
    "  y='Number of executions:Q'\n",
    ")\n",
    "sources + max_line"
   ]
  },
  {
   "cell_type": "markdown",
   "id": "b095dab4",
   "metadata": {},
   "source": [
    "## Visualize gov data\n",
    "\n",
    "[The Straits Times has published](https://www.straitstimes.com/singapore/more-than-80-of-sporeans-surveyed-believe-death-penalty-has-deterred-offenders-shanmugam?utm_source=Telegram&utm_medium=Social&utm_campaign=STTG) articles stating the governments' evidence that support how capital punishment deters crime."
   ]
  },
  {
   "cell_type": "code",
   "execution_count": 115,
   "id": "2289613a",
   "metadata": {},
   "outputs": [],
   "source": [
    "crimes = {\n",
    "    'firearm':\n",
    "      {'df': pd.read_csv(\"data/scraped_straitstimes_firearm.csv\"),\n",
    "       'date': 1973},\n",
    "    'kidnapping':\n",
    "      {'df': pd.read_csv(\"data/scraped_straitstimes_kidnapping.csv\"),\n",
    "       'date': 1961}}"
   ]
  },
  {
   "cell_type": "code",
   "execution_count": 116,
   "id": "7eb48195",
   "metadata": {},
   "outputs": [],
   "source": [
    "# Generate hypothetical pasts\n",
    "crime = 'firearm'\n",
    "cdf = crimes.get(crime).get('df')\n",
    "min_year = cdf.year.min()\n",
    "add_years = 10\n",
    "years = [min_year - add_years + i + 1 for i in range(add_years)]\n",
    "scenarios = ['low crime scenario', 'high crime scenario']\n",
    "good = cdf.cases[-add_years:].to_list()\n",
    "bad = cdf.cases[:add_years].to_list()\n",
    "good[-1] = cdf.cases[0]\n",
    "bad[-1] = cdf.cases[0]\n",
    "\n",
    "hyp_df = pd.DataFrame(\n",
    "    {'year': years * len(scenarios),\n",
    "     'cases': good + bad,\n",
    "     'hypothetical scenario': [s for s in scenarios for _ in years]})\n"
   ]
  },
  {
   "cell_type": "code",
   "execution_count": 117,
   "id": "af15da4f",
   "metadata": {},
   "outputs": [
    {
     "data": {
      "text/html": [
       "<div>\n",
       "<style scoped>\n",
       "    .dataframe tbody tr th:only-of-type {\n",
       "        vertical-align: middle;\n",
       "    }\n",
       "\n",
       "    .dataframe tbody tr th {\n",
       "        vertical-align: top;\n",
       "    }\n",
       "\n",
       "    .dataframe thead th {\n",
       "        text-align: right;\n",
       "    }\n",
       "</style>\n",
       "<table border=\"1\" class=\"dataframe\">\n",
       "  <thead>\n",
       "    <tr style=\"text-align: right;\">\n",
       "      <th></th>\n",
       "      <th>year</th>\n",
       "      <th>cases</th>\n",
       "      <th>hypothetical scenario</th>\n",
       "    </tr>\n",
       "  </thead>\n",
       "  <tbody>\n",
       "    <tr>\n",
       "      <th>0</th>\n",
       "      <td>1961</td>\n",
       "      <td>0</td>\n",
       "      <td>low crime scenario</td>\n",
       "    </tr>\n",
       "    <tr>\n",
       "      <th>1</th>\n",
       "      <td>1962</td>\n",
       "      <td>0</td>\n",
       "      <td>low crime scenario</td>\n",
       "    </tr>\n",
       "    <tr>\n",
       "      <th>2</th>\n",
       "      <td>1963</td>\n",
       "      <td>0</td>\n",
       "      <td>low crime scenario</td>\n",
       "    </tr>\n",
       "    <tr>\n",
       "      <th>3</th>\n",
       "      <td>1964</td>\n",
       "      <td>0</td>\n",
       "      <td>low crime scenario</td>\n",
       "    </tr>\n",
       "    <tr>\n",
       "      <th>4</th>\n",
       "      <td>1965</td>\n",
       "      <td>0</td>\n",
       "      <td>low crime scenario</td>\n",
       "    </tr>\n",
       "    <tr>\n",
       "      <th>5</th>\n",
       "      <td>1966</td>\n",
       "      <td>0</td>\n",
       "      <td>low crime scenario</td>\n",
       "    </tr>\n",
       "    <tr>\n",
       "      <th>6</th>\n",
       "      <td>1967</td>\n",
       "      <td>0</td>\n",
       "      <td>low crime scenario</td>\n",
       "    </tr>\n",
       "    <tr>\n",
       "      <th>7</th>\n",
       "      <td>1968</td>\n",
       "      <td>0</td>\n",
       "      <td>low crime scenario</td>\n",
       "    </tr>\n",
       "    <tr>\n",
       "      <th>8</th>\n",
       "      <td>1969</td>\n",
       "      <td>0</td>\n",
       "      <td>low crime scenario</td>\n",
       "    </tr>\n",
       "    <tr>\n",
       "      <th>9</th>\n",
       "      <td>1970</td>\n",
       "      <td>42</td>\n",
       "      <td>low crime scenario</td>\n",
       "    </tr>\n",
       "    <tr>\n",
       "      <th>10</th>\n",
       "      <td>1961</td>\n",
       "      <td>42</td>\n",
       "      <td>high crime scenario</td>\n",
       "    </tr>\n",
       "    <tr>\n",
       "      <th>11</th>\n",
       "      <td>1962</td>\n",
       "      <td>94</td>\n",
       "      <td>high crime scenario</td>\n",
       "    </tr>\n",
       "    <tr>\n",
       "      <th>12</th>\n",
       "      <td>1963</td>\n",
       "      <td>80</td>\n",
       "      <td>high crime scenario</td>\n",
       "    </tr>\n",
       "    <tr>\n",
       "      <th>13</th>\n",
       "      <td>1964</td>\n",
       "      <td>174</td>\n",
       "      <td>high crime scenario</td>\n",
       "    </tr>\n",
       "    <tr>\n",
       "      <th>14</th>\n",
       "      <td>1965</td>\n",
       "      <td>106</td>\n",
       "      <td>high crime scenario</td>\n",
       "    </tr>\n",
       "    <tr>\n",
       "      <th>15</th>\n",
       "      <td>1966</td>\n",
       "      <td>97</td>\n",
       "      <td>high crime scenario</td>\n",
       "    </tr>\n",
       "    <tr>\n",
       "      <th>16</th>\n",
       "      <td>1967</td>\n",
       "      <td>60</td>\n",
       "      <td>high crime scenario</td>\n",
       "    </tr>\n",
       "    <tr>\n",
       "      <th>17</th>\n",
       "      <td>1968</td>\n",
       "      <td>33</td>\n",
       "      <td>high crime scenario</td>\n",
       "    </tr>\n",
       "    <tr>\n",
       "      <th>18</th>\n",
       "      <td>1969</td>\n",
       "      <td>26</td>\n",
       "      <td>high crime scenario</td>\n",
       "    </tr>\n",
       "    <tr>\n",
       "      <th>19</th>\n",
       "      <td>1970</td>\n",
       "      <td>42</td>\n",
       "      <td>high crime scenario</td>\n",
       "    </tr>\n",
       "  </tbody>\n",
       "</table>\n",
       "</div>"
      ],
      "text/plain": [
       "    year  cases hypothetical scenario\n",
       "0   1961      0    low crime scenario\n",
       "1   1962      0    low crime scenario\n",
       "2   1963      0    low crime scenario\n",
       "3   1964      0    low crime scenario\n",
       "4   1965      0    low crime scenario\n",
       "5   1966      0    low crime scenario\n",
       "6   1967      0    low crime scenario\n",
       "7   1968      0    low crime scenario\n",
       "8   1969      0    low crime scenario\n",
       "9   1970     42    low crime scenario\n",
       "10  1961     42   high crime scenario\n",
       "11  1962     94   high crime scenario\n",
       "12  1963     80   high crime scenario\n",
       "13  1964    174   high crime scenario\n",
       "14  1965    106   high crime scenario\n",
       "15  1966     97   high crime scenario\n",
       "16  1967     60   high crime scenario\n",
       "17  1968     33   high crime scenario\n",
       "18  1969     26   high crime scenario\n",
       "19  1970     42   high crime scenario"
      ]
     },
     "execution_count": 117,
     "metadata": {},
     "output_type": "execute_result"
    }
   ],
   "source": [
    "hyp_df"
   ]
  },
  {
   "cell_type": "code",
   "execution_count": 118,
   "id": "3a3556e4",
   "metadata": {},
   "outputs": [
    {
     "data": {
      "text/html": [
       "\n",
       "<div id=\"altair-viz-e68db6f2ab424dae9c12afceabbf0833\"></div>\n",
       "<script type=\"text/javascript\">\n",
       "  (function(spec, embedOpt){\n",
       "    let outputDiv = document.currentScript.previousElementSibling;\n",
       "    if (outputDiv.id !== \"altair-viz-e68db6f2ab424dae9c12afceabbf0833\") {\n",
       "      outputDiv = document.getElementById(\"altair-viz-e68db6f2ab424dae9c12afceabbf0833\");\n",
       "    }\n",
       "    const paths = {\n",
       "      \"vega\": \"https://cdn.jsdelivr.net/npm//vega@5?noext\",\n",
       "      \"vega-lib\": \"https://cdn.jsdelivr.net/npm//vega-lib?noext\",\n",
       "      \"vega-lite\": \"https://cdn.jsdelivr.net/npm//vega-lite@4.8.1?noext\",\n",
       "      \"vega-embed\": \"https://cdn.jsdelivr.net/npm//vega-embed@6?noext\",\n",
       "    };\n",
       "\n",
       "    function loadScript(lib) {\n",
       "      return new Promise(function(resolve, reject) {\n",
       "        var s = document.createElement('script');\n",
       "        s.src = paths[lib];\n",
       "        s.async = true;\n",
       "        s.onload = () => resolve(paths[lib]);\n",
       "        s.onerror = () => reject(`Error loading script: ${paths[lib]}`);\n",
       "        document.getElementsByTagName(\"head\")[0].appendChild(s);\n",
       "      });\n",
       "    }\n",
       "\n",
       "    function showError(err) {\n",
       "      outputDiv.innerHTML = `<div class=\"error\" style=\"color:red;\">${err}</div>`;\n",
       "      throw err;\n",
       "    }\n",
       "\n",
       "    function displayChart(vegaEmbed) {\n",
       "      vegaEmbed(outputDiv, spec, embedOpt)\n",
       "        .catch(err => showError(`Javascript Error: ${err.message}<br>This usually means there's a typo in your chart specification. See the javascript console for the full traceback.`));\n",
       "    }\n",
       "\n",
       "    if(typeof define === \"function\" && define.amd) {\n",
       "      requirejs.config({paths});\n",
       "      require([\"vega-embed\"], displayChart, err => showError(`Error loading script: ${err.message}`));\n",
       "    } else if (typeof vegaEmbed === \"function\") {\n",
       "      displayChart(vegaEmbed);\n",
       "    } else {\n",
       "      loadScript(\"vega\")\n",
       "        .then(() => loadScript(\"vega-lite\"))\n",
       "        .then(() => loadScript(\"vega-embed\"))\n",
       "        .catch(showError)\n",
       "        .then(() => displayChart(vegaEmbed));\n",
       "    }\n",
       "  })({\"config\": {\"view\": {\"continuousWidth\": 400, \"continuousHeight\": 300}}, \"layer\": [{\"data\": {\"name\": \"data-9c9ff6796a9ac7405313550541941a25\"}, \"mark\": \"line\", \"encoding\": {\"x\": {\"type\": \"quantitative\", \"field\": \"year\"}, \"y\": {\"type\": \"quantitative\", \"field\": \"cases\"}}}, {\"data\": {\"name\": \"data-923c7a230956f3fb6ee8c59ceda9d4f8\"}, \"mark\": \"rule\", \"encoding\": {\"x\": {\"type\": \"quantitative\", \"field\": \"year\"}}}, {\"data\": {\"name\": \"data-9e633c08c9c83224c438df9e076f07f0\"}, \"mark\": {\"type\": \"line\", \"opacity\": 0.5}, \"encoding\": {\"color\": {\"type\": \"nominal\", \"field\": \"hypothetical scenario\"}, \"x\": {\"type\": \"quantitative\", \"field\": \"year\"}, \"y\": {\"type\": \"quantitative\", \"field\": \"cases\"}}}], \"$schema\": \"https://vega.github.io/schema/vega-lite/v4.8.1.json\", \"datasets\": {\"data-9c9ff6796a9ac7405313550541941a25\": [{\"Unnamed: 0\": 0, \"year\": 1970, \"cases\": 42}, {\"Unnamed: 0\": 1, \"year\": 1971, \"cases\": 94}, {\"Unnamed: 0\": 2, \"year\": 1972, \"cases\": 80}, {\"Unnamed: 0\": 3, \"year\": 1973, \"cases\": 174}, {\"Unnamed: 0\": 4, \"year\": 1974, \"cases\": 106}, {\"Unnamed: 0\": 5, \"year\": 1975, \"cases\": 97}, {\"Unnamed: 0\": 6, \"year\": 1976, \"cases\": 60}, {\"Unnamed: 0\": 7, \"year\": 1977, \"cases\": 33}, {\"Unnamed: 0\": 8, \"year\": 1978, \"cases\": 26}, {\"Unnamed: 0\": 9, \"year\": 1979, \"cases\": 31}, {\"Unnamed: 0\": 10, \"year\": 1980, \"cases\": 17}, {\"Unnamed: 0\": 11, \"year\": 1981, \"cases\": 13}, {\"Unnamed: 0\": 12, \"year\": 1982, \"cases\": 3}, {\"Unnamed: 0\": 13, \"year\": 1983, \"cases\": 18}, {\"Unnamed: 0\": 14, \"year\": 1984, \"cases\": 14}, {\"Unnamed: 0\": 15, \"year\": 1985, \"cases\": 6}, {\"Unnamed: 0\": 16, \"year\": 1986, \"cases\": 14}, {\"Unnamed: 0\": 17, \"year\": 1987, \"cases\": 12}, {\"Unnamed: 0\": 18, \"year\": 1988, \"cases\": 9}, {\"Unnamed: 0\": 19, \"year\": 1989, \"cases\": 6}, {\"Unnamed: 0\": 20, \"year\": 1990, \"cases\": 9}, {\"Unnamed: 0\": 21, \"year\": 1991, \"cases\": 1}, {\"Unnamed: 0\": 22, \"year\": 1992, \"cases\": 9}, {\"Unnamed: 0\": 23, \"year\": 1993, \"cases\": 3}, {\"Unnamed: 0\": 24, \"year\": 1994, \"cases\": 0}, {\"Unnamed: 0\": 25, \"year\": 1995, \"cases\": 7}, {\"Unnamed: 0\": 26, \"year\": 1996, \"cases\": 2}, {\"Unnamed: 0\": 27, \"year\": 1997, \"cases\": 1}, {\"Unnamed: 0\": 28, \"year\": 1998, \"cases\": 0}, {\"Unnamed: 0\": 29, \"year\": 1999, \"cases\": 1}, {\"Unnamed: 0\": 30, \"year\": 2000, \"cases\": 0}, {\"Unnamed: 0\": 31, \"year\": 2001, \"cases\": 0}, {\"Unnamed: 0\": 32, \"year\": 2002, \"cases\": 1}, {\"Unnamed: 0\": 33, \"year\": 2003, \"cases\": 0}, {\"Unnamed: 0\": 34, \"year\": 2004, \"cases\": 0}, {\"Unnamed: 0\": 35, \"year\": 2005, \"cases\": 0}, {\"Unnamed: 0\": 36, \"year\": 2006, \"cases\": 0}, {\"Unnamed: 0\": 37, \"year\": 2007, \"cases\": 0}, {\"Unnamed: 0\": 38, \"year\": 2008, \"cases\": 0}, {\"Unnamed: 0\": 39, \"year\": 2009, \"cases\": 0}, {\"Unnamed: 0\": 40, \"year\": 2010, \"cases\": 0}, {\"Unnamed: 0\": 41, \"year\": 2011, \"cases\": 0}, {\"Unnamed: 0\": 42, \"year\": 2012, \"cases\": 0}, {\"Unnamed: 0\": 43, \"year\": 2013, \"cases\": 0}, {\"Unnamed: 0\": 44, \"year\": 2014, \"cases\": 0}, {\"Unnamed: 0\": 45, \"year\": 2015, \"cases\": 0}, {\"Unnamed: 0\": 46, \"year\": 2016, \"cases\": 0}, {\"Unnamed: 0\": 47, \"year\": 2017, \"cases\": 0}, {\"Unnamed: 0\": 48, \"year\": 2018, \"cases\": 0}, {\"Unnamed: 0\": 49, \"year\": 2019, \"cases\": 0}, {\"Unnamed: 0\": 50, \"year\": 2020, \"cases\": 0}, {\"Unnamed: 0\": 51, \"year\": 2021, \"cases\": 1}], \"data-923c7a230956f3fb6ee8c59ceda9d4f8\": [{\"year\": 1973}], \"data-9e633c08c9c83224c438df9e076f07f0\": [{\"year\": 1961, \"cases\": 0, \"hypothetical scenario\": \"low crime scenario\"}, {\"year\": 1962, \"cases\": 0, \"hypothetical scenario\": \"low crime scenario\"}, {\"year\": 1963, \"cases\": 0, \"hypothetical scenario\": \"low crime scenario\"}, {\"year\": 1964, \"cases\": 0, \"hypothetical scenario\": \"low crime scenario\"}, {\"year\": 1965, \"cases\": 0, \"hypothetical scenario\": \"low crime scenario\"}, {\"year\": 1966, \"cases\": 0, \"hypothetical scenario\": \"low crime scenario\"}, {\"year\": 1967, \"cases\": 0, \"hypothetical scenario\": \"low crime scenario\"}, {\"year\": 1968, \"cases\": 0, \"hypothetical scenario\": \"low crime scenario\"}, {\"year\": 1969, \"cases\": 0, \"hypothetical scenario\": \"low crime scenario\"}, {\"year\": 1970, \"cases\": 42, \"hypothetical scenario\": \"low crime scenario\"}, {\"year\": 1961, \"cases\": 42, \"hypothetical scenario\": \"high crime scenario\"}, {\"year\": 1962, \"cases\": 94, \"hypothetical scenario\": \"high crime scenario\"}, {\"year\": 1963, \"cases\": 80, \"hypothetical scenario\": \"high crime scenario\"}, {\"year\": 1964, \"cases\": 174, \"hypothetical scenario\": \"high crime scenario\"}, {\"year\": 1965, \"cases\": 106, \"hypothetical scenario\": \"high crime scenario\"}, {\"year\": 1966, \"cases\": 97, \"hypothetical scenario\": \"high crime scenario\"}, {\"year\": 1967, \"cases\": 60, \"hypothetical scenario\": \"high crime scenario\"}, {\"year\": 1968, \"cases\": 33, \"hypothetical scenario\": \"high crime scenario\"}, {\"year\": 1969, \"cases\": 26, \"hypothetical scenario\": \"high crime scenario\"}, {\"year\": 1970, \"cases\": 42, \"hypothetical scenario\": \"high crime scenario\"}]}}, {\"mode\": \"vega-lite\"});\n",
       "</script>"
      ],
      "text/plain": [
       "alt.LayerChart(...)"
      ]
     },
     "execution_count": 118,
     "metadata": {},
     "output_type": "execute_result"
    }
   ],
   "source": [
    "dat = crimes.get(crime)\n",
    "df = dat.get('df')\n",
    "line = alt.Chart(df).mark_line().encode(\n",
    "    x='year:Q',\n",
    "    y='cases:Q')\n",
    "vert = alt.Chart(pd.DataFrame([{'year': dat.get('date')}])).mark_rule().encode(x='year')\n",
    "hyp = alt.Chart(hyp_df).mark_line(opacity=0.5).encode(\n",
    "    x='year:Q',\n",
    "    y='cases:Q',\n",
    "    color='hypothetical scenario:N')\n",
    "line + vert + hyp"
   ]
  },
  {
   "cell_type": "raw",
   "id": "ffa1d577",
   "metadata": {},
   "source": []
  },
  {
   "cell_type": "code",
   "execution_count": null,
   "id": "458ad10d",
   "metadata": {},
   "outputs": [],
   "source": []
  },
  {
   "cell_type": "code",
   "execution_count": 119,
   "id": "55fbb3bb",
   "metadata": {},
   "outputs": [],
   "source": [
    "## If we want to normalize by population\n",
    "pop = pd.read_csv(\"data/API_SP.POP.TOTL_DS2_en_csv_v2_3918567.csv\",\n",
    "                  skiprows=3)"
   ]
  },
  {
   "cell_type": "code",
   "execution_count": 120,
   "id": "d7c8dd38",
   "metadata": {},
   "outputs": [
    {
     "data": {
      "text/html": [
       "<div>\n",
       "<style scoped>\n",
       "    .dataframe tbody tr th:only-of-type {\n",
       "        vertical-align: middle;\n",
       "    }\n",
       "\n",
       "    .dataframe tbody tr th {\n",
       "        vertical-align: top;\n",
       "    }\n",
       "\n",
       "    .dataframe thead th {\n",
       "        text-align: right;\n",
       "    }\n",
       "</style>\n",
       "<table border=\"1\" class=\"dataframe\">\n",
       "  <thead>\n",
       "    <tr style=\"text-align: right;\">\n",
       "      <th></th>\n",
       "      <th>Country Name</th>\n",
       "      <th>Country Code</th>\n",
       "      <th>Indicator Name</th>\n",
       "      <th>Indicator Code</th>\n",
       "      <th>1960</th>\n",
       "      <th>1961</th>\n",
       "      <th>1962</th>\n",
       "      <th>1963</th>\n",
       "      <th>1964</th>\n",
       "      <th>1965</th>\n",
       "      <th>...</th>\n",
       "      <th>2012</th>\n",
       "      <th>2013</th>\n",
       "      <th>2014</th>\n",
       "      <th>2015</th>\n",
       "      <th>2016</th>\n",
       "      <th>2017</th>\n",
       "      <th>2018</th>\n",
       "      <th>2019</th>\n",
       "      <th>2020</th>\n",
       "      <th>Unnamed: 65</th>\n",
       "    </tr>\n",
       "  </thead>\n",
       "  <tbody>\n",
       "    <tr>\n",
       "      <th>0</th>\n",
       "      <td>Aruba</td>\n",
       "      <td>ABW</td>\n",
       "      <td>Population, total</td>\n",
       "      <td>SP.POP.TOTL</td>\n",
       "      <td>54208.0</td>\n",
       "      <td>55434.0</td>\n",
       "      <td>56234.0</td>\n",
       "      <td>56699.0</td>\n",
       "      <td>57029.0</td>\n",
       "      <td>57357.0</td>\n",
       "      <td>...</td>\n",
       "      <td>102565.0</td>\n",
       "      <td>103165.0</td>\n",
       "      <td>103776.0</td>\n",
       "      <td>104339.0</td>\n",
       "      <td>104865.0</td>\n",
       "      <td>105361.0</td>\n",
       "      <td>105846.0</td>\n",
       "      <td>106310.0</td>\n",
       "      <td>106766.0</td>\n",
       "      <td>NaN</td>\n",
       "    </tr>\n",
       "    <tr>\n",
       "      <th>1</th>\n",
       "      <td>Africa Eastern and Southern</td>\n",
       "      <td>AFE</td>\n",
       "      <td>Population, total</td>\n",
       "      <td>SP.POP.TOTL</td>\n",
       "      <td>130836765.0</td>\n",
       "      <td>134159786.0</td>\n",
       "      <td>137614644.0</td>\n",
       "      <td>141202036.0</td>\n",
       "      <td>144920186.0</td>\n",
       "      <td>148769974.0</td>\n",
       "      <td>...</td>\n",
       "      <td>547482863.0</td>\n",
       "      <td>562601578.0</td>\n",
       "      <td>578075373.0</td>\n",
       "      <td>593871847.0</td>\n",
       "      <td>609978946.0</td>\n",
       "      <td>626392880.0</td>\n",
       "      <td>643090131.0</td>\n",
       "      <td>660046272.0</td>\n",
       "      <td>677243299.0</td>\n",
       "      <td>NaN</td>\n",
       "    </tr>\n",
       "    <tr>\n",
       "      <th>2</th>\n",
       "      <td>Afghanistan</td>\n",
       "      <td>AFG</td>\n",
       "      <td>Population, total</td>\n",
       "      <td>SP.POP.TOTL</td>\n",
       "      <td>8996967.0</td>\n",
       "      <td>9169406.0</td>\n",
       "      <td>9351442.0</td>\n",
       "      <td>9543200.0</td>\n",
       "      <td>9744772.0</td>\n",
       "      <td>9956318.0</td>\n",
       "      <td>...</td>\n",
       "      <td>31161378.0</td>\n",
       "      <td>32269592.0</td>\n",
       "      <td>33370804.0</td>\n",
       "      <td>34413603.0</td>\n",
       "      <td>35383028.0</td>\n",
       "      <td>36296111.0</td>\n",
       "      <td>37171922.0</td>\n",
       "      <td>38041757.0</td>\n",
       "      <td>38928341.0</td>\n",
       "      <td>NaN</td>\n",
       "    </tr>\n",
       "  </tbody>\n",
       "</table>\n",
       "<p>3 rows × 66 columns</p>\n",
       "</div>"
      ],
      "text/plain": [
       "                  Country Name Country Code     Indicator Name Indicator Code  \\\n",
       "0                        Aruba          ABW  Population, total    SP.POP.TOTL   \n",
       "1  Africa Eastern and Southern          AFE  Population, total    SP.POP.TOTL   \n",
       "2                  Afghanistan          AFG  Population, total    SP.POP.TOTL   \n",
       "\n",
       "          1960         1961         1962         1963         1964  \\\n",
       "0      54208.0      55434.0      56234.0      56699.0      57029.0   \n",
       "1  130836765.0  134159786.0  137614644.0  141202036.0  144920186.0   \n",
       "2    8996967.0    9169406.0    9351442.0    9543200.0    9744772.0   \n",
       "\n",
       "          1965  ...         2012         2013         2014         2015  \\\n",
       "0      57357.0  ...     102565.0     103165.0     103776.0     104339.0   \n",
       "1  148769974.0  ...  547482863.0  562601578.0  578075373.0  593871847.0   \n",
       "2    9956318.0  ...   31161378.0   32269592.0   33370804.0   34413603.0   \n",
       "\n",
       "          2016         2017         2018         2019         2020  \\\n",
       "0     104865.0     105361.0     105846.0     106310.0     106766.0   \n",
       "1  609978946.0  626392880.0  643090131.0  660046272.0  677243299.0   \n",
       "2   35383028.0   36296111.0   37171922.0   38041757.0   38928341.0   \n",
       "\n",
       "   Unnamed: 65  \n",
       "0          NaN  \n",
       "1          NaN  \n",
       "2          NaN  \n",
       "\n",
       "[3 rows x 66 columns]"
      ]
     },
     "execution_count": 120,
     "metadata": {},
     "output_type": "execute_result"
    }
   ],
   "source": [
    "pop.head(3)"
   ]
  },
  {
   "cell_type": "code",
   "execution_count": 121,
   "id": "0262556c",
   "metadata": {},
   "outputs": [],
   "source": [
    "is_sg = pop['Country Name'] == 'Singapore'\n",
    "sg_pop = pop[is_sg]"
   ]
  },
  {
   "cell_type": "code",
   "execution_count": 122,
   "id": "fe681cd2",
   "metadata": {},
   "outputs": [
    {
     "data": {
      "text/html": [
       "<div>\n",
       "<style scoped>\n",
       "    .dataframe tbody tr th:only-of-type {\n",
       "        vertical-align: middle;\n",
       "    }\n",
       "\n",
       "    .dataframe tbody tr th {\n",
       "        vertical-align: top;\n",
       "    }\n",
       "\n",
       "    .dataframe thead th {\n",
       "        text-align: right;\n",
       "    }\n",
       "</style>\n",
       "<table border=\"1\" class=\"dataframe\">\n",
       "  <thead>\n",
       "    <tr style=\"text-align: right;\">\n",
       "      <th></th>\n",
       "      <th>Country Name</th>\n",
       "      <th>Country Code</th>\n",
       "      <th>Indicator Name</th>\n",
       "      <th>Indicator Code</th>\n",
       "      <th>1960</th>\n",
       "      <th>1961</th>\n",
       "      <th>1962</th>\n",
       "      <th>1963</th>\n",
       "      <th>1964</th>\n",
       "      <th>1965</th>\n",
       "      <th>...</th>\n",
       "      <th>2012</th>\n",
       "      <th>2013</th>\n",
       "      <th>2014</th>\n",
       "      <th>2015</th>\n",
       "      <th>2016</th>\n",
       "      <th>2017</th>\n",
       "      <th>2018</th>\n",
       "      <th>2019</th>\n",
       "      <th>2020</th>\n",
       "      <th>Unnamed: 65</th>\n",
       "    </tr>\n",
       "  </thead>\n",
       "  <tbody>\n",
       "    <tr>\n",
       "      <th>208</th>\n",
       "      <td>Singapore</td>\n",
       "      <td>SGP</td>\n",
       "      <td>Population, total</td>\n",
       "      <td>SP.POP.TOTL</td>\n",
       "      <td>1646400.0</td>\n",
       "      <td>1702400.0</td>\n",
       "      <td>1750200.0</td>\n",
       "      <td>1795000.0</td>\n",
       "      <td>1841600.0</td>\n",
       "      <td>1886900.0</td>\n",
       "      <td>...</td>\n",
       "      <td>5312437.0</td>\n",
       "      <td>5399162.0</td>\n",
       "      <td>5469724.0</td>\n",
       "      <td>5535002.0</td>\n",
       "      <td>5607283.0</td>\n",
       "      <td>5612253.0</td>\n",
       "      <td>5638676.0</td>\n",
       "      <td>5703569.0</td>\n",
       "      <td>5685807.0</td>\n",
       "      <td>NaN</td>\n",
       "    </tr>\n",
       "  </tbody>\n",
       "</table>\n",
       "<p>1 rows × 66 columns</p>\n",
       "</div>"
      ],
      "text/plain": [
       "    Country Name Country Code     Indicator Name Indicator Code       1960  \\\n",
       "208    Singapore          SGP  Population, total    SP.POP.TOTL  1646400.0   \n",
       "\n",
       "          1961       1962       1963       1964       1965  ...       2012  \\\n",
       "208  1702400.0  1750200.0  1795000.0  1841600.0  1886900.0  ...  5312437.0   \n",
       "\n",
       "          2013       2014       2015       2016       2017       2018  \\\n",
       "208  5399162.0  5469724.0  5535002.0  5607283.0  5612253.0  5638676.0   \n",
       "\n",
       "          2019       2020  Unnamed: 65  \n",
       "208  5703569.0  5685807.0          NaN  \n",
       "\n",
       "[1 rows x 66 columns]"
      ]
     },
     "execution_count": 122,
     "metadata": {},
     "output_type": "execute_result"
    }
   ],
   "source": [
    "sg_pop"
   ]
  },
  {
   "cell_type": "code",
   "execution_count": 123,
   "id": "85d0f6c2",
   "metadata": {},
   "outputs": [],
   "source": [
    "sg_pop = sg_pop.iloc[:, 4:].T.reset_index()"
   ]
  },
  {
   "cell_type": "code",
   "execution_count": 124,
   "id": "41944d59",
   "metadata": {},
   "outputs": [
    {
     "data": {
      "text/html": [
       "<div>\n",
       "<style scoped>\n",
       "    .dataframe tbody tr th:only-of-type {\n",
       "        vertical-align: middle;\n",
       "    }\n",
       "\n",
       "    .dataframe tbody tr th {\n",
       "        vertical-align: top;\n",
       "    }\n",
       "\n",
       "    .dataframe thead th {\n",
       "        text-align: right;\n",
       "    }\n",
       "</style>\n",
       "<table border=\"1\" class=\"dataframe\">\n",
       "  <thead>\n",
       "    <tr style=\"text-align: right;\">\n",
       "      <th></th>\n",
       "      <th>index</th>\n",
       "      <th>208</th>\n",
       "    </tr>\n",
       "  </thead>\n",
       "  <tbody>\n",
       "    <tr>\n",
       "      <th>0</th>\n",
       "      <td>1960</td>\n",
       "      <td>1646400.0</td>\n",
       "    </tr>\n",
       "    <tr>\n",
       "      <th>1</th>\n",
       "      <td>1961</td>\n",
       "      <td>1702400.0</td>\n",
       "    </tr>\n",
       "    <tr>\n",
       "      <th>2</th>\n",
       "      <td>1962</td>\n",
       "      <td>1750200.0</td>\n",
       "    </tr>\n",
       "  </tbody>\n",
       "</table>\n",
       "</div>"
      ],
      "text/plain": [
       "  index        208\n",
       "0  1960  1646400.0\n",
       "1  1961  1702400.0\n",
       "2  1962  1750200.0"
      ]
     },
     "execution_count": 124,
     "metadata": {},
     "output_type": "execute_result"
    }
   ],
   "source": [
    "sg_pop.head(3)"
   ]
  },
  {
   "cell_type": "markdown",
   "id": "1aa5574c",
   "metadata": {},
   "source": [
    "## Academic Survey on Public Support for the Death Penalty\n",
    "\n",
    "https://papers.ssrn.com/sol3/papers.cfm?abstract_id=3122150"
   ]
  },
  {
   "cell_type": "code",
   "execution_count": 125,
   "id": "b9afac50",
   "metadata": {},
   "outputs": [],
   "source": [
    "interest_df = pd.DataFrame(\n",
    "    {\"Level of interest\": \n",
    "       [\"Very interested or concerned\",\n",
    "        \"Interested or concerned\",\n",
    "        \"Not very interested or concerned\",\n",
    "        \"Not interested or concerned at all\"],\n",
    "     \"Percent\": [4.5, 44.5, 39.7, 11.3]})\n",
    "knowledge_df = pd.DataFrame(\n",
    "    {\"Level of knowledge\": [\n",
    "        \"Know a great deal\",\n",
    "        \"Know something about it\",\n",
    "        \"Know little about it\",\n",
    "        \"Know nothing about it \"],\n",
    "     \"Percent\": [2.5, 35.5, 50.7, 11.3]})\n",
    "support_df = pd.DataFrame(\n",
    "    {\"Level of support\": [\n",
    "       \"Strongly in favour\",\n",
    "       \"In favour\",\n",
    "       \"Oppose\",\n",
    "       \"Strongly oppose\",\n",
    "       \"Not sure\"],\n",
    "     \"Percent\": [8.7, 63.2, 22.7, 2.8, 2.6]})\n"
   ]
  },
  {
   "cell_type": "code",
   "execution_count": 126,
   "id": "478b1d25",
   "metadata": {},
   "outputs": [],
   "source": [
    "in_favor = (8.7 + 63.2) / 100 * 1500\n",
    "oppose = (22.7 + 2.8) / 100 * 1500\n",
    "not_sure = 2.6 / 100 * 1500"
   ]
  },
  {
   "cell_type": "code",
   "execution_count": 127,
   "id": "0bd4f0ad",
   "metadata": {},
   "outputs": [],
   "source": [
    "import plotly.graph_objects as go"
   ]
  },
  {
   "cell_type": "code",
   "execution_count": 128,
   "id": "a92b0931",
   "metadata": {},
   "outputs": [
    {
     "data": {
      "application/vnd.plotly.v1+json": {
       "config": {
        "plotlyServerURL": "https://plot.ly"
       },
       "data": [
        {
         "arrangement": "fixed",
         "link": {
          "source": [
           0,
           0,
           0,
           1,
           1,
           1
          ],
          "target": [
           1,
           2,
           3,
           4,
           5,
           6
          ],
          "value": [
           1078.5000000000002,
           382.5,
           39,
           540.3285000000001,
           509.0520000000001,
           29.119500000000006
          ]
         },
         "node": {
          "color": "blue",
          "label": [
           "Overall",
           "In favor of dealth penalty",
           "Oppose",
           "Not sure",
           "Would still favor it",
           "Would then oppose it",
           "Don't know"
          ],
          "line": {
           "color": "black",
           "width": 0.1
          },
          "pad": 15,
          "thickness": 50,
          "x": [
           0.1,
           0.5,
           0.5,
           0.5,
           0.9,
           0.9,
           0.9
          ],
          "y": [
           0.5,
           0.25,
           0.7,
           0.85,
           0.1,
           0.45,
           0.65
          ]
         },
         "type": "sankey"
        }
       ],
       "layout": {
        "font": {
         "size": 10
        },
        "template": {
         "data": {
          "bar": [
           {
            "error_x": {
             "color": "#2a3f5f"
            },
            "error_y": {
             "color": "#2a3f5f"
            },
            "marker": {
             "line": {
              "color": "#E5ECF6",
              "width": 0.5
             },
             "pattern": {
              "fillmode": "overlay",
              "size": 10,
              "solidity": 0.2
             }
            },
            "type": "bar"
           }
          ],
          "barpolar": [
           {
            "marker": {
             "line": {
              "color": "#E5ECF6",
              "width": 0.5
             },
             "pattern": {
              "fillmode": "overlay",
              "size": 10,
              "solidity": 0.2
             }
            },
            "type": "barpolar"
           }
          ],
          "carpet": [
           {
            "aaxis": {
             "endlinecolor": "#2a3f5f",
             "gridcolor": "white",
             "linecolor": "white",
             "minorgridcolor": "white",
             "startlinecolor": "#2a3f5f"
            },
            "baxis": {
             "endlinecolor": "#2a3f5f",
             "gridcolor": "white",
             "linecolor": "white",
             "minorgridcolor": "white",
             "startlinecolor": "#2a3f5f"
            },
            "type": "carpet"
           }
          ],
          "choropleth": [
           {
            "colorbar": {
             "outlinewidth": 0,
             "ticks": ""
            },
            "type": "choropleth"
           }
          ],
          "contour": [
           {
            "colorbar": {
             "outlinewidth": 0,
             "ticks": ""
            },
            "colorscale": [
             [
              0,
              "#0d0887"
             ],
             [
              0.1111111111111111,
              "#46039f"
             ],
             [
              0.2222222222222222,
              "#7201a8"
             ],
             [
              0.3333333333333333,
              "#9c179e"
             ],
             [
              0.4444444444444444,
              "#bd3786"
             ],
             [
              0.5555555555555556,
              "#d8576b"
             ],
             [
              0.6666666666666666,
              "#ed7953"
             ],
             [
              0.7777777777777778,
              "#fb9f3a"
             ],
             [
              0.8888888888888888,
              "#fdca26"
             ],
             [
              1,
              "#f0f921"
             ]
            ],
            "type": "contour"
           }
          ],
          "contourcarpet": [
           {
            "colorbar": {
             "outlinewidth": 0,
             "ticks": ""
            },
            "type": "contourcarpet"
           }
          ],
          "heatmap": [
           {
            "colorbar": {
             "outlinewidth": 0,
             "ticks": ""
            },
            "colorscale": [
             [
              0,
              "#0d0887"
             ],
             [
              0.1111111111111111,
              "#46039f"
             ],
             [
              0.2222222222222222,
              "#7201a8"
             ],
             [
              0.3333333333333333,
              "#9c179e"
             ],
             [
              0.4444444444444444,
              "#bd3786"
             ],
             [
              0.5555555555555556,
              "#d8576b"
             ],
             [
              0.6666666666666666,
              "#ed7953"
             ],
             [
              0.7777777777777778,
              "#fb9f3a"
             ],
             [
              0.8888888888888888,
              "#fdca26"
             ],
             [
              1,
              "#f0f921"
             ]
            ],
            "type": "heatmap"
           }
          ],
          "heatmapgl": [
           {
            "colorbar": {
             "outlinewidth": 0,
             "ticks": ""
            },
            "colorscale": [
             [
              0,
              "#0d0887"
             ],
             [
              0.1111111111111111,
              "#46039f"
             ],
             [
              0.2222222222222222,
              "#7201a8"
             ],
             [
              0.3333333333333333,
              "#9c179e"
             ],
             [
              0.4444444444444444,
              "#bd3786"
             ],
             [
              0.5555555555555556,
              "#d8576b"
             ],
             [
              0.6666666666666666,
              "#ed7953"
             ],
             [
              0.7777777777777778,
              "#fb9f3a"
             ],
             [
              0.8888888888888888,
              "#fdca26"
             ],
             [
              1,
              "#f0f921"
             ]
            ],
            "type": "heatmapgl"
           }
          ],
          "histogram": [
           {
            "marker": {
             "pattern": {
              "fillmode": "overlay",
              "size": 10,
              "solidity": 0.2
             }
            },
            "type": "histogram"
           }
          ],
          "histogram2d": [
           {
            "colorbar": {
             "outlinewidth": 0,
             "ticks": ""
            },
            "colorscale": [
             [
              0,
              "#0d0887"
             ],
             [
              0.1111111111111111,
              "#46039f"
             ],
             [
              0.2222222222222222,
              "#7201a8"
             ],
             [
              0.3333333333333333,
              "#9c179e"
             ],
             [
              0.4444444444444444,
              "#bd3786"
             ],
             [
              0.5555555555555556,
              "#d8576b"
             ],
             [
              0.6666666666666666,
              "#ed7953"
             ],
             [
              0.7777777777777778,
              "#fb9f3a"
             ],
             [
              0.8888888888888888,
              "#fdca26"
             ],
             [
              1,
              "#f0f921"
             ]
            ],
            "type": "histogram2d"
           }
          ],
          "histogram2dcontour": [
           {
            "colorbar": {
             "outlinewidth": 0,
             "ticks": ""
            },
            "colorscale": [
             [
              0,
              "#0d0887"
             ],
             [
              0.1111111111111111,
              "#46039f"
             ],
             [
              0.2222222222222222,
              "#7201a8"
             ],
             [
              0.3333333333333333,
              "#9c179e"
             ],
             [
              0.4444444444444444,
              "#bd3786"
             ],
             [
              0.5555555555555556,
              "#d8576b"
             ],
             [
              0.6666666666666666,
              "#ed7953"
             ],
             [
              0.7777777777777778,
              "#fb9f3a"
             ],
             [
              0.8888888888888888,
              "#fdca26"
             ],
             [
              1,
              "#f0f921"
             ]
            ],
            "type": "histogram2dcontour"
           }
          ],
          "mesh3d": [
           {
            "colorbar": {
             "outlinewidth": 0,
             "ticks": ""
            },
            "type": "mesh3d"
           }
          ],
          "parcoords": [
           {
            "line": {
             "colorbar": {
              "outlinewidth": 0,
              "ticks": ""
             }
            },
            "type": "parcoords"
           }
          ],
          "pie": [
           {
            "automargin": true,
            "type": "pie"
           }
          ],
          "scatter": [
           {
            "marker": {
             "colorbar": {
              "outlinewidth": 0,
              "ticks": ""
             }
            },
            "type": "scatter"
           }
          ],
          "scatter3d": [
           {
            "line": {
             "colorbar": {
              "outlinewidth": 0,
              "ticks": ""
             }
            },
            "marker": {
             "colorbar": {
              "outlinewidth": 0,
              "ticks": ""
             }
            },
            "type": "scatter3d"
           }
          ],
          "scattercarpet": [
           {
            "marker": {
             "colorbar": {
              "outlinewidth": 0,
              "ticks": ""
             }
            },
            "type": "scattercarpet"
           }
          ],
          "scattergeo": [
           {
            "marker": {
             "colorbar": {
              "outlinewidth": 0,
              "ticks": ""
             }
            },
            "type": "scattergeo"
           }
          ],
          "scattergl": [
           {
            "marker": {
             "colorbar": {
              "outlinewidth": 0,
              "ticks": ""
             }
            },
            "type": "scattergl"
           }
          ],
          "scattermapbox": [
           {
            "marker": {
             "colorbar": {
              "outlinewidth": 0,
              "ticks": ""
             }
            },
            "type": "scattermapbox"
           }
          ],
          "scatterpolar": [
           {
            "marker": {
             "colorbar": {
              "outlinewidth": 0,
              "ticks": ""
             }
            },
            "type": "scatterpolar"
           }
          ],
          "scatterpolargl": [
           {
            "marker": {
             "colorbar": {
              "outlinewidth": 0,
              "ticks": ""
             }
            },
            "type": "scatterpolargl"
           }
          ],
          "scatterternary": [
           {
            "marker": {
             "colorbar": {
              "outlinewidth": 0,
              "ticks": ""
             }
            },
            "type": "scatterternary"
           }
          ],
          "surface": [
           {
            "colorbar": {
             "outlinewidth": 0,
             "ticks": ""
            },
            "colorscale": [
             [
              0,
              "#0d0887"
             ],
             [
              0.1111111111111111,
              "#46039f"
             ],
             [
              0.2222222222222222,
              "#7201a8"
             ],
             [
              0.3333333333333333,
              "#9c179e"
             ],
             [
              0.4444444444444444,
              "#bd3786"
             ],
             [
              0.5555555555555556,
              "#d8576b"
             ],
             [
              0.6666666666666666,
              "#ed7953"
             ],
             [
              0.7777777777777778,
              "#fb9f3a"
             ],
             [
              0.8888888888888888,
              "#fdca26"
             ],
             [
              1,
              "#f0f921"
             ]
            ],
            "type": "surface"
           }
          ],
          "table": [
           {
            "cells": {
             "fill": {
              "color": "#EBF0F8"
             },
             "line": {
              "color": "white"
             }
            },
            "header": {
             "fill": {
              "color": "#C8D4E3"
             },
             "line": {
              "color": "white"
             }
            },
            "type": "table"
           }
          ]
         },
         "layout": {
          "annotationdefaults": {
           "arrowcolor": "#2a3f5f",
           "arrowhead": 0,
           "arrowwidth": 1
          },
          "autotypenumbers": "strict",
          "coloraxis": {
           "colorbar": {
            "outlinewidth": 0,
            "ticks": ""
           }
          },
          "colorscale": {
           "diverging": [
            [
             0,
             "#8e0152"
            ],
            [
             0.1,
             "#c51b7d"
            ],
            [
             0.2,
             "#de77ae"
            ],
            [
             0.3,
             "#f1b6da"
            ],
            [
             0.4,
             "#fde0ef"
            ],
            [
             0.5,
             "#f7f7f7"
            ],
            [
             0.6,
             "#e6f5d0"
            ],
            [
             0.7,
             "#b8e186"
            ],
            [
             0.8,
             "#7fbc41"
            ],
            [
             0.9,
             "#4d9221"
            ],
            [
             1,
             "#276419"
            ]
           ],
           "sequential": [
            [
             0,
             "#0d0887"
            ],
            [
             0.1111111111111111,
             "#46039f"
            ],
            [
             0.2222222222222222,
             "#7201a8"
            ],
            [
             0.3333333333333333,
             "#9c179e"
            ],
            [
             0.4444444444444444,
             "#bd3786"
            ],
            [
             0.5555555555555556,
             "#d8576b"
            ],
            [
             0.6666666666666666,
             "#ed7953"
            ],
            [
             0.7777777777777778,
             "#fb9f3a"
            ],
            [
             0.8888888888888888,
             "#fdca26"
            ],
            [
             1,
             "#f0f921"
            ]
           ],
           "sequentialminus": [
            [
             0,
             "#0d0887"
            ],
            [
             0.1111111111111111,
             "#46039f"
            ],
            [
             0.2222222222222222,
             "#7201a8"
            ],
            [
             0.3333333333333333,
             "#9c179e"
            ],
            [
             0.4444444444444444,
             "#bd3786"
            ],
            [
             0.5555555555555556,
             "#d8576b"
            ],
            [
             0.6666666666666666,
             "#ed7953"
            ],
            [
             0.7777777777777778,
             "#fb9f3a"
            ],
            [
             0.8888888888888888,
             "#fdca26"
            ],
            [
             1,
             "#f0f921"
            ]
           ]
          },
          "colorway": [
           "#636efa",
           "#EF553B",
           "#00cc96",
           "#ab63fa",
           "#FFA15A",
           "#19d3f3",
           "#FF6692",
           "#B6E880",
           "#FF97FF",
           "#FECB52"
          ],
          "font": {
           "color": "#2a3f5f"
          },
          "geo": {
           "bgcolor": "white",
           "lakecolor": "white",
           "landcolor": "#E5ECF6",
           "showlakes": true,
           "showland": true,
           "subunitcolor": "white"
          },
          "hoverlabel": {
           "align": "left"
          },
          "hovermode": "closest",
          "mapbox": {
           "style": "light"
          },
          "paper_bgcolor": "white",
          "plot_bgcolor": "#E5ECF6",
          "polar": {
           "angularaxis": {
            "gridcolor": "white",
            "linecolor": "white",
            "ticks": ""
           },
           "bgcolor": "#E5ECF6",
           "radialaxis": {
            "gridcolor": "white",
            "linecolor": "white",
            "ticks": ""
           }
          },
          "scene": {
           "xaxis": {
            "backgroundcolor": "#E5ECF6",
            "gridcolor": "white",
            "gridwidth": 2,
            "linecolor": "white",
            "showbackground": true,
            "ticks": "",
            "zerolinecolor": "white"
           },
           "yaxis": {
            "backgroundcolor": "#E5ECF6",
            "gridcolor": "white",
            "gridwidth": 2,
            "linecolor": "white",
            "showbackground": true,
            "ticks": "",
            "zerolinecolor": "white"
           },
           "zaxis": {
            "backgroundcolor": "#E5ECF6",
            "gridcolor": "white",
            "gridwidth": 2,
            "linecolor": "white",
            "showbackground": true,
            "ticks": "",
            "zerolinecolor": "white"
           }
          },
          "shapedefaults": {
           "line": {
            "color": "#2a3f5f"
           }
          },
          "ternary": {
           "aaxis": {
            "gridcolor": "white",
            "linecolor": "white",
            "ticks": ""
           },
           "baxis": {
            "gridcolor": "white",
            "linecolor": "white",
            "ticks": ""
           },
           "bgcolor": "#E5ECF6",
           "caxis": {
            "gridcolor": "white",
            "linecolor": "white",
            "ticks": ""
           }
          },
          "title": {
           "x": 0.05
          },
          "xaxis": {
           "automargin": true,
           "gridcolor": "white",
           "linecolor": "white",
           "ticks": "",
           "title": {
            "standoff": 15
           },
           "zerolinecolor": "white",
           "zerolinewidth": 2
          },
          "yaxis": {
           "automargin": true,
           "gridcolor": "white",
           "linecolor": "white",
           "ticks": "",
           "title": {
            "standoff": 15
           },
           "zerolinecolor": "white",
           "zerolinewidth": 2
          }
         }
        },
        "title": {
         "text": "On drug trafficking - change of support if not proven a better deterrent"
        }
       }
      },
      "text/html": [
       "<div>                            <div id=\"03002cdf-a7f5-4569-91cc-b6a0b871a03f\" class=\"plotly-graph-div\" style=\"height:525px; width:100%;\"></div>            <script type=\"text/javascript\">                require([\"plotly\"], function(Plotly) {                    window.PLOTLYENV=window.PLOTLYENV || {};                                    if (document.getElementById(\"03002cdf-a7f5-4569-91cc-b6a0b871a03f\")) {                    Plotly.newPlot(                        \"03002cdf-a7f5-4569-91cc-b6a0b871a03f\",                        [{\"arrangement\":\"fixed\",\"link\":{\"source\":[0,0,0,1,1,1],\"target\":[1,2,3,4,5,6],\"value\":[1078.5000000000002,382.5,39.0,540.3285000000001,509.0520000000001,29.119500000000006]},\"node\":{\"color\":\"blue\",\"label\":[\"Overall\",\"In favor of dealth penalty\",\"Oppose\",\"Not sure\",\"Would still favor it\",\"Would then oppose it\",\"Don't know\"],\"line\":{\"color\":\"black\",\"width\":0.1},\"pad\":15,\"thickness\":50,\"x\":[0.1,0.5,0.5,0.5,0.9,0.9,0.9],\"y\":[0.5,0.25,0.7,0.85,0.1,0.45,0.65]},\"type\":\"sankey\"}],                        {\"template\":{\"data\":{\"bar\":[{\"error_x\":{\"color\":\"#2a3f5f\"},\"error_y\":{\"color\":\"#2a3f5f\"},\"marker\":{\"line\":{\"color\":\"#E5ECF6\",\"width\":0.5},\"pattern\":{\"fillmode\":\"overlay\",\"size\":10,\"solidity\":0.2}},\"type\":\"bar\"}],\"barpolar\":[{\"marker\":{\"line\":{\"color\":\"#E5ECF6\",\"width\":0.5},\"pattern\":{\"fillmode\":\"overlay\",\"size\":10,\"solidity\":0.2}},\"type\":\"barpolar\"}],\"carpet\":[{\"aaxis\":{\"endlinecolor\":\"#2a3f5f\",\"gridcolor\":\"white\",\"linecolor\":\"white\",\"minorgridcolor\":\"white\",\"startlinecolor\":\"#2a3f5f\"},\"baxis\":{\"endlinecolor\":\"#2a3f5f\",\"gridcolor\":\"white\",\"linecolor\":\"white\",\"minorgridcolor\":\"white\",\"startlinecolor\":\"#2a3f5f\"},\"type\":\"carpet\"}],\"choropleth\":[{\"colorbar\":{\"outlinewidth\":0,\"ticks\":\"\"},\"type\":\"choropleth\"}],\"contour\":[{\"colorbar\":{\"outlinewidth\":0,\"ticks\":\"\"},\"colorscale\":[[0.0,\"#0d0887\"],[0.1111111111111111,\"#46039f\"],[0.2222222222222222,\"#7201a8\"],[0.3333333333333333,\"#9c179e\"],[0.4444444444444444,\"#bd3786\"],[0.5555555555555556,\"#d8576b\"],[0.6666666666666666,\"#ed7953\"],[0.7777777777777778,\"#fb9f3a\"],[0.8888888888888888,\"#fdca26\"],[1.0,\"#f0f921\"]],\"type\":\"contour\"}],\"contourcarpet\":[{\"colorbar\":{\"outlinewidth\":0,\"ticks\":\"\"},\"type\":\"contourcarpet\"}],\"heatmap\":[{\"colorbar\":{\"outlinewidth\":0,\"ticks\":\"\"},\"colorscale\":[[0.0,\"#0d0887\"],[0.1111111111111111,\"#46039f\"],[0.2222222222222222,\"#7201a8\"],[0.3333333333333333,\"#9c179e\"],[0.4444444444444444,\"#bd3786\"],[0.5555555555555556,\"#d8576b\"],[0.6666666666666666,\"#ed7953\"],[0.7777777777777778,\"#fb9f3a\"],[0.8888888888888888,\"#fdca26\"],[1.0,\"#f0f921\"]],\"type\":\"heatmap\"}],\"heatmapgl\":[{\"colorbar\":{\"outlinewidth\":0,\"ticks\":\"\"},\"colorscale\":[[0.0,\"#0d0887\"],[0.1111111111111111,\"#46039f\"],[0.2222222222222222,\"#7201a8\"],[0.3333333333333333,\"#9c179e\"],[0.4444444444444444,\"#bd3786\"],[0.5555555555555556,\"#d8576b\"],[0.6666666666666666,\"#ed7953\"],[0.7777777777777778,\"#fb9f3a\"],[0.8888888888888888,\"#fdca26\"],[1.0,\"#f0f921\"]],\"type\":\"heatmapgl\"}],\"histogram\":[{\"marker\":{\"pattern\":{\"fillmode\":\"overlay\",\"size\":10,\"solidity\":0.2}},\"type\":\"histogram\"}],\"histogram2d\":[{\"colorbar\":{\"outlinewidth\":0,\"ticks\":\"\"},\"colorscale\":[[0.0,\"#0d0887\"],[0.1111111111111111,\"#46039f\"],[0.2222222222222222,\"#7201a8\"],[0.3333333333333333,\"#9c179e\"],[0.4444444444444444,\"#bd3786\"],[0.5555555555555556,\"#d8576b\"],[0.6666666666666666,\"#ed7953\"],[0.7777777777777778,\"#fb9f3a\"],[0.8888888888888888,\"#fdca26\"],[1.0,\"#f0f921\"]],\"type\":\"histogram2d\"}],\"histogram2dcontour\":[{\"colorbar\":{\"outlinewidth\":0,\"ticks\":\"\"},\"colorscale\":[[0.0,\"#0d0887\"],[0.1111111111111111,\"#46039f\"],[0.2222222222222222,\"#7201a8\"],[0.3333333333333333,\"#9c179e\"],[0.4444444444444444,\"#bd3786\"],[0.5555555555555556,\"#d8576b\"],[0.6666666666666666,\"#ed7953\"],[0.7777777777777778,\"#fb9f3a\"],[0.8888888888888888,\"#fdca26\"],[1.0,\"#f0f921\"]],\"type\":\"histogram2dcontour\"}],\"mesh3d\":[{\"colorbar\":{\"outlinewidth\":0,\"ticks\":\"\"},\"type\":\"mesh3d\"}],\"parcoords\":[{\"line\":{\"colorbar\":{\"outlinewidth\":0,\"ticks\":\"\"}},\"type\":\"parcoords\"}],\"pie\":[{\"automargin\":true,\"type\":\"pie\"}],\"scatter\":[{\"marker\":{\"colorbar\":{\"outlinewidth\":0,\"ticks\":\"\"}},\"type\":\"scatter\"}],\"scatter3d\":[{\"line\":{\"colorbar\":{\"outlinewidth\":0,\"ticks\":\"\"}},\"marker\":{\"colorbar\":{\"outlinewidth\":0,\"ticks\":\"\"}},\"type\":\"scatter3d\"}],\"scattercarpet\":[{\"marker\":{\"colorbar\":{\"outlinewidth\":0,\"ticks\":\"\"}},\"type\":\"scattercarpet\"}],\"scattergeo\":[{\"marker\":{\"colorbar\":{\"outlinewidth\":0,\"ticks\":\"\"}},\"type\":\"scattergeo\"}],\"scattergl\":[{\"marker\":{\"colorbar\":{\"outlinewidth\":0,\"ticks\":\"\"}},\"type\":\"scattergl\"}],\"scattermapbox\":[{\"marker\":{\"colorbar\":{\"outlinewidth\":0,\"ticks\":\"\"}},\"type\":\"scattermapbox\"}],\"scatterpolar\":[{\"marker\":{\"colorbar\":{\"outlinewidth\":0,\"ticks\":\"\"}},\"type\":\"scatterpolar\"}],\"scatterpolargl\":[{\"marker\":{\"colorbar\":{\"outlinewidth\":0,\"ticks\":\"\"}},\"type\":\"scatterpolargl\"}],\"scatterternary\":[{\"marker\":{\"colorbar\":{\"outlinewidth\":0,\"ticks\":\"\"}},\"type\":\"scatterternary\"}],\"surface\":[{\"colorbar\":{\"outlinewidth\":0,\"ticks\":\"\"},\"colorscale\":[[0.0,\"#0d0887\"],[0.1111111111111111,\"#46039f\"],[0.2222222222222222,\"#7201a8\"],[0.3333333333333333,\"#9c179e\"],[0.4444444444444444,\"#bd3786\"],[0.5555555555555556,\"#d8576b\"],[0.6666666666666666,\"#ed7953\"],[0.7777777777777778,\"#fb9f3a\"],[0.8888888888888888,\"#fdca26\"],[1.0,\"#f0f921\"]],\"type\":\"surface\"}],\"table\":[{\"cells\":{\"fill\":{\"color\":\"#EBF0F8\"},\"line\":{\"color\":\"white\"}},\"header\":{\"fill\":{\"color\":\"#C8D4E3\"},\"line\":{\"color\":\"white\"}},\"type\":\"table\"}]},\"layout\":{\"annotationdefaults\":{\"arrowcolor\":\"#2a3f5f\",\"arrowhead\":0,\"arrowwidth\":1},\"autotypenumbers\":\"strict\",\"coloraxis\":{\"colorbar\":{\"outlinewidth\":0,\"ticks\":\"\"}},\"colorscale\":{\"diverging\":[[0,\"#8e0152\"],[0.1,\"#c51b7d\"],[0.2,\"#de77ae\"],[0.3,\"#f1b6da\"],[0.4,\"#fde0ef\"],[0.5,\"#f7f7f7\"],[0.6,\"#e6f5d0\"],[0.7,\"#b8e186\"],[0.8,\"#7fbc41\"],[0.9,\"#4d9221\"],[1,\"#276419\"]],\"sequential\":[[0.0,\"#0d0887\"],[0.1111111111111111,\"#46039f\"],[0.2222222222222222,\"#7201a8\"],[0.3333333333333333,\"#9c179e\"],[0.4444444444444444,\"#bd3786\"],[0.5555555555555556,\"#d8576b\"],[0.6666666666666666,\"#ed7953\"],[0.7777777777777778,\"#fb9f3a\"],[0.8888888888888888,\"#fdca26\"],[1.0,\"#f0f921\"]],\"sequentialminus\":[[0.0,\"#0d0887\"],[0.1111111111111111,\"#46039f\"],[0.2222222222222222,\"#7201a8\"],[0.3333333333333333,\"#9c179e\"],[0.4444444444444444,\"#bd3786\"],[0.5555555555555556,\"#d8576b\"],[0.6666666666666666,\"#ed7953\"],[0.7777777777777778,\"#fb9f3a\"],[0.8888888888888888,\"#fdca26\"],[1.0,\"#f0f921\"]]},\"colorway\":[\"#636efa\",\"#EF553B\",\"#00cc96\",\"#ab63fa\",\"#FFA15A\",\"#19d3f3\",\"#FF6692\",\"#B6E880\",\"#FF97FF\",\"#FECB52\"],\"font\":{\"color\":\"#2a3f5f\"},\"geo\":{\"bgcolor\":\"white\",\"lakecolor\":\"white\",\"landcolor\":\"#E5ECF6\",\"showlakes\":true,\"showland\":true,\"subunitcolor\":\"white\"},\"hoverlabel\":{\"align\":\"left\"},\"hovermode\":\"closest\",\"mapbox\":{\"style\":\"light\"},\"paper_bgcolor\":\"white\",\"plot_bgcolor\":\"#E5ECF6\",\"polar\":{\"angularaxis\":{\"gridcolor\":\"white\",\"linecolor\":\"white\",\"ticks\":\"\"},\"bgcolor\":\"#E5ECF6\",\"radialaxis\":{\"gridcolor\":\"white\",\"linecolor\":\"white\",\"ticks\":\"\"}},\"scene\":{\"xaxis\":{\"backgroundcolor\":\"#E5ECF6\",\"gridcolor\":\"white\",\"gridwidth\":2,\"linecolor\":\"white\",\"showbackground\":true,\"ticks\":\"\",\"zerolinecolor\":\"white\"},\"yaxis\":{\"backgroundcolor\":\"#E5ECF6\",\"gridcolor\":\"white\",\"gridwidth\":2,\"linecolor\":\"white\",\"showbackground\":true,\"ticks\":\"\",\"zerolinecolor\":\"white\"},\"zaxis\":{\"backgroundcolor\":\"#E5ECF6\",\"gridcolor\":\"white\",\"gridwidth\":2,\"linecolor\":\"white\",\"showbackground\":true,\"ticks\":\"\",\"zerolinecolor\":\"white\"}},\"shapedefaults\":{\"line\":{\"color\":\"#2a3f5f\"}},\"ternary\":{\"aaxis\":{\"gridcolor\":\"white\",\"linecolor\":\"white\",\"ticks\":\"\"},\"baxis\":{\"gridcolor\":\"white\",\"linecolor\":\"white\",\"ticks\":\"\"},\"bgcolor\":\"#E5ECF6\",\"caxis\":{\"gridcolor\":\"white\",\"linecolor\":\"white\",\"ticks\":\"\"}},\"title\":{\"x\":0.05},\"xaxis\":{\"automargin\":true,\"gridcolor\":\"white\",\"linecolor\":\"white\",\"ticks\":\"\",\"title\":{\"standoff\":15},\"zerolinecolor\":\"white\",\"zerolinewidth\":2},\"yaxis\":{\"automargin\":true,\"gridcolor\":\"white\",\"linecolor\":\"white\",\"ticks\":\"\",\"title\":{\"standoff\":15},\"zerolinecolor\":\"white\",\"zerolinewidth\":2}}},\"title\":{\"text\":\"On drug trafficking - change of support if not proven a better deterrent\"},\"font\":{\"size\":10}},                        {\"responsive\": true}                    ).then(function(){\n",
       "                            \n",
       "var gd = document.getElementById('03002cdf-a7f5-4569-91cc-b6a0b871a03f');\n",
       "var x = new MutationObserver(function (mutations, observer) {{\n",
       "        var display = window.getComputedStyle(gd).display;\n",
       "        if (!display || display === 'none') {{\n",
       "            console.log([gd, 'removed!']);\n",
       "            Plotly.purge(gd);\n",
       "            observer.disconnect();\n",
       "        }}\n",
       "}});\n",
       "\n",
       "// Listen for the removal of the full notebook cells\n",
       "var notebookContainer = gd.closest('#notebook-container');\n",
       "if (notebookContainer) {{\n",
       "    x.observe(notebookContainer, {childList: true});\n",
       "}}\n",
       "\n",
       "// Listen for the clearing of the current output cell\n",
       "var outputEl = gd.closest('.output');\n",
       "if (outputEl) {{\n",
       "    x.observe(outputEl, {childList: true});\n",
       "}}\n",
       "\n",
       "                        })                };                });            </script>        </div>"
      ]
     },
     "metadata": {},
     "output_type": "display_data"
    }
   ],
   "source": [
    "fig = go.Figure(data=[go.Sankey(\n",
    "    arrangement = \"fixed\",\n",
    "    node = dict(\n",
    "      pad = 15,\n",
    "      thickness = 50,\n",
    "      line = dict(color = \"black\", width = 0.1),\n",
    "      label = [\"Overall\", \"In favor of dealth penalty\", \"Oppose\", \"Not sure\",\n",
    "               \"Would still favor it\", \"Would then oppose it\", \"Don't know\"],\n",
    "      color = \"blue\",\n",
    "      x = [0.1, 0.5, 0.5, 0.5, 0.9, 0.9, 0.9],\n",
    "      y = [0.5, 0.25, 0.7, 0.85, 0.1, 0.45, 0.65]  \n",
    "    ),\n",
    "    link = dict(\n",
    "      source = [0, 0, 0, 1, 1, 1], # indices correspond to labels, eg A1, A2, A1, B1, ...\n",
    "      target = [1, 2, 3, 4, 5, 6],\n",
    "      value = [in_favor, oppose, not_sure,\n",
    "               in_favor * .501, in_favor * .472, in_favor * 0.027]\n",
    "  ))])\n",
    "\n",
    "fig.update_layout(title_text=\"On drug trafficking - change of support if not proven a better deterrent\", font_size=10)\n",
    "fig.show()"
   ]
  },
  {
   "cell_type": "code",
   "execution_count": 129,
   "id": "8517f870",
   "metadata": {},
   "outputs": [
    {
     "data": {
      "application/vnd.plotly.v1+json": {
       "config": {
        "plotlyServerURL": "https://plot.ly"
       },
       "data": [
        {
         "link": {
          "source": [
           0,
           0,
           0,
           1,
           1,
           1
          ],
          "target": [
           1,
           2,
           3,
           4,
           5,
           6
          ],
          "value": [
           1078.5000000000002,
           382.5,
           39,
           349.4340000000001,
           695.6325000000002,
           33.43350000000001
          ]
         },
         "node": {
          "color": "blue",
          "label": [
           "Overall",
           "In favor of dealth penalty",
           "Oppose",
           "Not sure",
           "Would still favor it",
           "Would then oppose it",
           "Don't know"
          ],
          "line": {
           "color": "black",
           "width": 0.1
          },
          "pad": 15,
          "thickness": 50,
          "x": [
           0.1,
           0.5,
           0.5,
           0.5,
           0.9,
           0.9,
           0.9
          ],
          "y": [
           0.5,
           0.25,
           0.7,
           0.85,
           0.1,
           0.45,
           0.75
          ]
         },
         "type": "sankey"
        }
       ],
       "layout": {
        "font": {
         "size": 10
        },
        "template": {
         "data": {
          "bar": [
           {
            "error_x": {
             "color": "#2a3f5f"
            },
            "error_y": {
             "color": "#2a3f5f"
            },
            "marker": {
             "line": {
              "color": "#E5ECF6",
              "width": 0.5
             },
             "pattern": {
              "fillmode": "overlay",
              "size": 10,
              "solidity": 0.2
             }
            },
            "type": "bar"
           }
          ],
          "barpolar": [
           {
            "marker": {
             "line": {
              "color": "#E5ECF6",
              "width": 0.5
             },
             "pattern": {
              "fillmode": "overlay",
              "size": 10,
              "solidity": 0.2
             }
            },
            "type": "barpolar"
           }
          ],
          "carpet": [
           {
            "aaxis": {
             "endlinecolor": "#2a3f5f",
             "gridcolor": "white",
             "linecolor": "white",
             "minorgridcolor": "white",
             "startlinecolor": "#2a3f5f"
            },
            "baxis": {
             "endlinecolor": "#2a3f5f",
             "gridcolor": "white",
             "linecolor": "white",
             "minorgridcolor": "white",
             "startlinecolor": "#2a3f5f"
            },
            "type": "carpet"
           }
          ],
          "choropleth": [
           {
            "colorbar": {
             "outlinewidth": 0,
             "ticks": ""
            },
            "type": "choropleth"
           }
          ],
          "contour": [
           {
            "colorbar": {
             "outlinewidth": 0,
             "ticks": ""
            },
            "colorscale": [
             [
              0,
              "#0d0887"
             ],
             [
              0.1111111111111111,
              "#46039f"
             ],
             [
              0.2222222222222222,
              "#7201a8"
             ],
             [
              0.3333333333333333,
              "#9c179e"
             ],
             [
              0.4444444444444444,
              "#bd3786"
             ],
             [
              0.5555555555555556,
              "#d8576b"
             ],
             [
              0.6666666666666666,
              "#ed7953"
             ],
             [
              0.7777777777777778,
              "#fb9f3a"
             ],
             [
              0.8888888888888888,
              "#fdca26"
             ],
             [
              1,
              "#f0f921"
             ]
            ],
            "type": "contour"
           }
          ],
          "contourcarpet": [
           {
            "colorbar": {
             "outlinewidth": 0,
             "ticks": ""
            },
            "type": "contourcarpet"
           }
          ],
          "heatmap": [
           {
            "colorbar": {
             "outlinewidth": 0,
             "ticks": ""
            },
            "colorscale": [
             [
              0,
              "#0d0887"
             ],
             [
              0.1111111111111111,
              "#46039f"
             ],
             [
              0.2222222222222222,
              "#7201a8"
             ],
             [
              0.3333333333333333,
              "#9c179e"
             ],
             [
              0.4444444444444444,
              "#bd3786"
             ],
             [
              0.5555555555555556,
              "#d8576b"
             ],
             [
              0.6666666666666666,
              "#ed7953"
             ],
             [
              0.7777777777777778,
              "#fb9f3a"
             ],
             [
              0.8888888888888888,
              "#fdca26"
             ],
             [
              1,
              "#f0f921"
             ]
            ],
            "type": "heatmap"
           }
          ],
          "heatmapgl": [
           {
            "colorbar": {
             "outlinewidth": 0,
             "ticks": ""
            },
            "colorscale": [
             [
              0,
              "#0d0887"
             ],
             [
              0.1111111111111111,
              "#46039f"
             ],
             [
              0.2222222222222222,
              "#7201a8"
             ],
             [
              0.3333333333333333,
              "#9c179e"
             ],
             [
              0.4444444444444444,
              "#bd3786"
             ],
             [
              0.5555555555555556,
              "#d8576b"
             ],
             [
              0.6666666666666666,
              "#ed7953"
             ],
             [
              0.7777777777777778,
              "#fb9f3a"
             ],
             [
              0.8888888888888888,
              "#fdca26"
             ],
             [
              1,
              "#f0f921"
             ]
            ],
            "type": "heatmapgl"
           }
          ],
          "histogram": [
           {
            "marker": {
             "pattern": {
              "fillmode": "overlay",
              "size": 10,
              "solidity": 0.2
             }
            },
            "type": "histogram"
           }
          ],
          "histogram2d": [
           {
            "colorbar": {
             "outlinewidth": 0,
             "ticks": ""
            },
            "colorscale": [
             [
              0,
              "#0d0887"
             ],
             [
              0.1111111111111111,
              "#46039f"
             ],
             [
              0.2222222222222222,
              "#7201a8"
             ],
             [
              0.3333333333333333,
              "#9c179e"
             ],
             [
              0.4444444444444444,
              "#bd3786"
             ],
             [
              0.5555555555555556,
              "#d8576b"
             ],
             [
              0.6666666666666666,
              "#ed7953"
             ],
             [
              0.7777777777777778,
              "#fb9f3a"
             ],
             [
              0.8888888888888888,
              "#fdca26"
             ],
             [
              1,
              "#f0f921"
             ]
            ],
            "type": "histogram2d"
           }
          ],
          "histogram2dcontour": [
           {
            "colorbar": {
             "outlinewidth": 0,
             "ticks": ""
            },
            "colorscale": [
             [
              0,
              "#0d0887"
             ],
             [
              0.1111111111111111,
              "#46039f"
             ],
             [
              0.2222222222222222,
              "#7201a8"
             ],
             [
              0.3333333333333333,
              "#9c179e"
             ],
             [
              0.4444444444444444,
              "#bd3786"
             ],
             [
              0.5555555555555556,
              "#d8576b"
             ],
             [
              0.6666666666666666,
              "#ed7953"
             ],
             [
              0.7777777777777778,
              "#fb9f3a"
             ],
             [
              0.8888888888888888,
              "#fdca26"
             ],
             [
              1,
              "#f0f921"
             ]
            ],
            "type": "histogram2dcontour"
           }
          ],
          "mesh3d": [
           {
            "colorbar": {
             "outlinewidth": 0,
             "ticks": ""
            },
            "type": "mesh3d"
           }
          ],
          "parcoords": [
           {
            "line": {
             "colorbar": {
              "outlinewidth": 0,
              "ticks": ""
             }
            },
            "type": "parcoords"
           }
          ],
          "pie": [
           {
            "automargin": true,
            "type": "pie"
           }
          ],
          "scatter": [
           {
            "marker": {
             "colorbar": {
              "outlinewidth": 0,
              "ticks": ""
             }
            },
            "type": "scatter"
           }
          ],
          "scatter3d": [
           {
            "line": {
             "colorbar": {
              "outlinewidth": 0,
              "ticks": ""
             }
            },
            "marker": {
             "colorbar": {
              "outlinewidth": 0,
              "ticks": ""
             }
            },
            "type": "scatter3d"
           }
          ],
          "scattercarpet": [
           {
            "marker": {
             "colorbar": {
              "outlinewidth": 0,
              "ticks": ""
             }
            },
            "type": "scattercarpet"
           }
          ],
          "scattergeo": [
           {
            "marker": {
             "colorbar": {
              "outlinewidth": 0,
              "ticks": ""
             }
            },
            "type": "scattergeo"
           }
          ],
          "scattergl": [
           {
            "marker": {
             "colorbar": {
              "outlinewidth": 0,
              "ticks": ""
             }
            },
            "type": "scattergl"
           }
          ],
          "scattermapbox": [
           {
            "marker": {
             "colorbar": {
              "outlinewidth": 0,
              "ticks": ""
             }
            },
            "type": "scattermapbox"
           }
          ],
          "scatterpolar": [
           {
            "marker": {
             "colorbar": {
              "outlinewidth": 0,
              "ticks": ""
             }
            },
            "type": "scatterpolar"
           }
          ],
          "scatterpolargl": [
           {
            "marker": {
             "colorbar": {
              "outlinewidth": 0,
              "ticks": ""
             }
            },
            "type": "scatterpolargl"
           }
          ],
          "scatterternary": [
           {
            "marker": {
             "colorbar": {
              "outlinewidth": 0,
              "ticks": ""
             }
            },
            "type": "scatterternary"
           }
          ],
          "surface": [
           {
            "colorbar": {
             "outlinewidth": 0,
             "ticks": ""
            },
            "colorscale": [
             [
              0,
              "#0d0887"
             ],
             [
              0.1111111111111111,
              "#46039f"
             ],
             [
              0.2222222222222222,
              "#7201a8"
             ],
             [
              0.3333333333333333,
              "#9c179e"
             ],
             [
              0.4444444444444444,
              "#bd3786"
             ],
             [
              0.5555555555555556,
              "#d8576b"
             ],
             [
              0.6666666666666666,
              "#ed7953"
             ],
             [
              0.7777777777777778,
              "#fb9f3a"
             ],
             [
              0.8888888888888888,
              "#fdca26"
             ],
             [
              1,
              "#f0f921"
             ]
            ],
            "type": "surface"
           }
          ],
          "table": [
           {
            "cells": {
             "fill": {
              "color": "#EBF0F8"
             },
             "line": {
              "color": "white"
             }
            },
            "header": {
             "fill": {
              "color": "#C8D4E3"
             },
             "line": {
              "color": "white"
             }
            },
            "type": "table"
           }
          ]
         },
         "layout": {
          "annotationdefaults": {
           "arrowcolor": "#2a3f5f",
           "arrowhead": 0,
           "arrowwidth": 1
          },
          "autotypenumbers": "strict",
          "coloraxis": {
           "colorbar": {
            "outlinewidth": 0,
            "ticks": ""
           }
          },
          "colorscale": {
           "diverging": [
            [
             0,
             "#8e0152"
            ],
            [
             0.1,
             "#c51b7d"
            ],
            [
             0.2,
             "#de77ae"
            ],
            [
             0.3,
             "#f1b6da"
            ],
            [
             0.4,
             "#fde0ef"
            ],
            [
             0.5,
             "#f7f7f7"
            ],
            [
             0.6,
             "#e6f5d0"
            ],
            [
             0.7,
             "#b8e186"
            ],
            [
             0.8,
             "#7fbc41"
            ],
            [
             0.9,
             "#4d9221"
            ],
            [
             1,
             "#276419"
            ]
           ],
           "sequential": [
            [
             0,
             "#0d0887"
            ],
            [
             0.1111111111111111,
             "#46039f"
            ],
            [
             0.2222222222222222,
             "#7201a8"
            ],
            [
             0.3333333333333333,
             "#9c179e"
            ],
            [
             0.4444444444444444,
             "#bd3786"
            ],
            [
             0.5555555555555556,
             "#d8576b"
            ],
            [
             0.6666666666666666,
             "#ed7953"
            ],
            [
             0.7777777777777778,
             "#fb9f3a"
            ],
            [
             0.8888888888888888,
             "#fdca26"
            ],
            [
             1,
             "#f0f921"
            ]
           ],
           "sequentialminus": [
            [
             0,
             "#0d0887"
            ],
            [
             0.1111111111111111,
             "#46039f"
            ],
            [
             0.2222222222222222,
             "#7201a8"
            ],
            [
             0.3333333333333333,
             "#9c179e"
            ],
            [
             0.4444444444444444,
             "#bd3786"
            ],
            [
             0.5555555555555556,
             "#d8576b"
            ],
            [
             0.6666666666666666,
             "#ed7953"
            ],
            [
             0.7777777777777778,
             "#fb9f3a"
            ],
            [
             0.8888888888888888,
             "#fdca26"
            ],
            [
             1,
             "#f0f921"
            ]
           ]
          },
          "colorway": [
           "#636efa",
           "#EF553B",
           "#00cc96",
           "#ab63fa",
           "#FFA15A",
           "#19d3f3",
           "#FF6692",
           "#B6E880",
           "#FF97FF",
           "#FECB52"
          ],
          "font": {
           "color": "#2a3f5f"
          },
          "geo": {
           "bgcolor": "white",
           "lakecolor": "white",
           "landcolor": "#E5ECF6",
           "showlakes": true,
           "showland": true,
           "subunitcolor": "white"
          },
          "hoverlabel": {
           "align": "left"
          },
          "hovermode": "closest",
          "mapbox": {
           "style": "light"
          },
          "paper_bgcolor": "white",
          "plot_bgcolor": "#E5ECF6",
          "polar": {
           "angularaxis": {
            "gridcolor": "white",
            "linecolor": "white",
            "ticks": ""
           },
           "bgcolor": "#E5ECF6",
           "radialaxis": {
            "gridcolor": "white",
            "linecolor": "white",
            "ticks": ""
           }
          },
          "scene": {
           "xaxis": {
            "backgroundcolor": "#E5ECF6",
            "gridcolor": "white",
            "gridwidth": 2,
            "linecolor": "white",
            "showbackground": true,
            "ticks": "",
            "zerolinecolor": "white"
           },
           "yaxis": {
            "backgroundcolor": "#E5ECF6",
            "gridcolor": "white",
            "gridwidth": 2,
            "linecolor": "white",
            "showbackground": true,
            "ticks": "",
            "zerolinecolor": "white"
           },
           "zaxis": {
            "backgroundcolor": "#E5ECF6",
            "gridcolor": "white",
            "gridwidth": 2,
            "linecolor": "white",
            "showbackground": true,
            "ticks": "",
            "zerolinecolor": "white"
           }
          },
          "shapedefaults": {
           "line": {
            "color": "#2a3f5f"
           }
          },
          "ternary": {
           "aaxis": {
            "gridcolor": "white",
            "linecolor": "white",
            "ticks": ""
           },
           "baxis": {
            "gridcolor": "white",
            "linecolor": "white",
            "ticks": ""
           },
           "bgcolor": "#E5ECF6",
           "caxis": {
            "gridcolor": "white",
            "linecolor": "white",
            "ticks": ""
           }
          },
          "title": {
           "x": 0.05
          },
          "xaxis": {
           "automargin": true,
           "gridcolor": "white",
           "linecolor": "white",
           "ticks": "",
           "title": {
            "standoff": 15
           },
           "zerolinecolor": "white",
           "zerolinewidth": 2
          },
          "yaxis": {
           "automargin": true,
           "gridcolor": "white",
           "linecolor": "white",
           "ticks": "",
           "title": {
            "standoff": 15
           },
           "zerolinecolor": "white",
           "zerolinewidth": 2
          }
         }
        },
        "title": {
         "text": "On drug trafficking - change of support if innocent persons have been executed"
        }
       }
      },
      "text/html": [
       "<div>                            <div id=\"e15914e9-656b-45d7-ac40-c6216fbbec05\" class=\"plotly-graph-div\" style=\"height:525px; width:100%;\"></div>            <script type=\"text/javascript\">                require([\"plotly\"], function(Plotly) {                    window.PLOTLYENV=window.PLOTLYENV || {};                                    if (document.getElementById(\"e15914e9-656b-45d7-ac40-c6216fbbec05\")) {                    Plotly.newPlot(                        \"e15914e9-656b-45d7-ac40-c6216fbbec05\",                        [{\"link\":{\"source\":[0,0,0,1,1,1],\"target\":[1,2,3,4,5,6],\"value\":[1078.5000000000002,382.5,39.0,349.4340000000001,695.6325000000002,33.43350000000001]},\"node\":{\"color\":\"blue\",\"label\":[\"Overall\",\"In favor of dealth penalty\",\"Oppose\",\"Not sure\",\"Would still favor it\",\"Would then oppose it\",\"Don't know\"],\"line\":{\"color\":\"black\",\"width\":0.1},\"pad\":15,\"thickness\":50,\"x\":[0.1,0.5,0.5,0.5,0.9,0.9,0.9],\"y\":[0.5,0.25,0.7,0.85,0.1,0.45,0.75]},\"type\":\"sankey\"}],                        {\"template\":{\"data\":{\"bar\":[{\"error_x\":{\"color\":\"#2a3f5f\"},\"error_y\":{\"color\":\"#2a3f5f\"},\"marker\":{\"line\":{\"color\":\"#E5ECF6\",\"width\":0.5},\"pattern\":{\"fillmode\":\"overlay\",\"size\":10,\"solidity\":0.2}},\"type\":\"bar\"}],\"barpolar\":[{\"marker\":{\"line\":{\"color\":\"#E5ECF6\",\"width\":0.5},\"pattern\":{\"fillmode\":\"overlay\",\"size\":10,\"solidity\":0.2}},\"type\":\"barpolar\"}],\"carpet\":[{\"aaxis\":{\"endlinecolor\":\"#2a3f5f\",\"gridcolor\":\"white\",\"linecolor\":\"white\",\"minorgridcolor\":\"white\",\"startlinecolor\":\"#2a3f5f\"},\"baxis\":{\"endlinecolor\":\"#2a3f5f\",\"gridcolor\":\"white\",\"linecolor\":\"white\",\"minorgridcolor\":\"white\",\"startlinecolor\":\"#2a3f5f\"},\"type\":\"carpet\"}],\"choropleth\":[{\"colorbar\":{\"outlinewidth\":0,\"ticks\":\"\"},\"type\":\"choropleth\"}],\"contour\":[{\"colorbar\":{\"outlinewidth\":0,\"ticks\":\"\"},\"colorscale\":[[0.0,\"#0d0887\"],[0.1111111111111111,\"#46039f\"],[0.2222222222222222,\"#7201a8\"],[0.3333333333333333,\"#9c179e\"],[0.4444444444444444,\"#bd3786\"],[0.5555555555555556,\"#d8576b\"],[0.6666666666666666,\"#ed7953\"],[0.7777777777777778,\"#fb9f3a\"],[0.8888888888888888,\"#fdca26\"],[1.0,\"#f0f921\"]],\"type\":\"contour\"}],\"contourcarpet\":[{\"colorbar\":{\"outlinewidth\":0,\"ticks\":\"\"},\"type\":\"contourcarpet\"}],\"heatmap\":[{\"colorbar\":{\"outlinewidth\":0,\"ticks\":\"\"},\"colorscale\":[[0.0,\"#0d0887\"],[0.1111111111111111,\"#46039f\"],[0.2222222222222222,\"#7201a8\"],[0.3333333333333333,\"#9c179e\"],[0.4444444444444444,\"#bd3786\"],[0.5555555555555556,\"#d8576b\"],[0.6666666666666666,\"#ed7953\"],[0.7777777777777778,\"#fb9f3a\"],[0.8888888888888888,\"#fdca26\"],[1.0,\"#f0f921\"]],\"type\":\"heatmap\"}],\"heatmapgl\":[{\"colorbar\":{\"outlinewidth\":0,\"ticks\":\"\"},\"colorscale\":[[0.0,\"#0d0887\"],[0.1111111111111111,\"#46039f\"],[0.2222222222222222,\"#7201a8\"],[0.3333333333333333,\"#9c179e\"],[0.4444444444444444,\"#bd3786\"],[0.5555555555555556,\"#d8576b\"],[0.6666666666666666,\"#ed7953\"],[0.7777777777777778,\"#fb9f3a\"],[0.8888888888888888,\"#fdca26\"],[1.0,\"#f0f921\"]],\"type\":\"heatmapgl\"}],\"histogram\":[{\"marker\":{\"pattern\":{\"fillmode\":\"overlay\",\"size\":10,\"solidity\":0.2}},\"type\":\"histogram\"}],\"histogram2d\":[{\"colorbar\":{\"outlinewidth\":0,\"ticks\":\"\"},\"colorscale\":[[0.0,\"#0d0887\"],[0.1111111111111111,\"#46039f\"],[0.2222222222222222,\"#7201a8\"],[0.3333333333333333,\"#9c179e\"],[0.4444444444444444,\"#bd3786\"],[0.5555555555555556,\"#d8576b\"],[0.6666666666666666,\"#ed7953\"],[0.7777777777777778,\"#fb9f3a\"],[0.8888888888888888,\"#fdca26\"],[1.0,\"#f0f921\"]],\"type\":\"histogram2d\"}],\"histogram2dcontour\":[{\"colorbar\":{\"outlinewidth\":0,\"ticks\":\"\"},\"colorscale\":[[0.0,\"#0d0887\"],[0.1111111111111111,\"#46039f\"],[0.2222222222222222,\"#7201a8\"],[0.3333333333333333,\"#9c179e\"],[0.4444444444444444,\"#bd3786\"],[0.5555555555555556,\"#d8576b\"],[0.6666666666666666,\"#ed7953\"],[0.7777777777777778,\"#fb9f3a\"],[0.8888888888888888,\"#fdca26\"],[1.0,\"#f0f921\"]],\"type\":\"histogram2dcontour\"}],\"mesh3d\":[{\"colorbar\":{\"outlinewidth\":0,\"ticks\":\"\"},\"type\":\"mesh3d\"}],\"parcoords\":[{\"line\":{\"colorbar\":{\"outlinewidth\":0,\"ticks\":\"\"}},\"type\":\"parcoords\"}],\"pie\":[{\"automargin\":true,\"type\":\"pie\"}],\"scatter\":[{\"marker\":{\"colorbar\":{\"outlinewidth\":0,\"ticks\":\"\"}},\"type\":\"scatter\"}],\"scatter3d\":[{\"line\":{\"colorbar\":{\"outlinewidth\":0,\"ticks\":\"\"}},\"marker\":{\"colorbar\":{\"outlinewidth\":0,\"ticks\":\"\"}},\"type\":\"scatter3d\"}],\"scattercarpet\":[{\"marker\":{\"colorbar\":{\"outlinewidth\":0,\"ticks\":\"\"}},\"type\":\"scattercarpet\"}],\"scattergeo\":[{\"marker\":{\"colorbar\":{\"outlinewidth\":0,\"ticks\":\"\"}},\"type\":\"scattergeo\"}],\"scattergl\":[{\"marker\":{\"colorbar\":{\"outlinewidth\":0,\"ticks\":\"\"}},\"type\":\"scattergl\"}],\"scattermapbox\":[{\"marker\":{\"colorbar\":{\"outlinewidth\":0,\"ticks\":\"\"}},\"type\":\"scattermapbox\"}],\"scatterpolar\":[{\"marker\":{\"colorbar\":{\"outlinewidth\":0,\"ticks\":\"\"}},\"type\":\"scatterpolar\"}],\"scatterpolargl\":[{\"marker\":{\"colorbar\":{\"outlinewidth\":0,\"ticks\":\"\"}},\"type\":\"scatterpolargl\"}],\"scatterternary\":[{\"marker\":{\"colorbar\":{\"outlinewidth\":0,\"ticks\":\"\"}},\"type\":\"scatterternary\"}],\"surface\":[{\"colorbar\":{\"outlinewidth\":0,\"ticks\":\"\"},\"colorscale\":[[0.0,\"#0d0887\"],[0.1111111111111111,\"#46039f\"],[0.2222222222222222,\"#7201a8\"],[0.3333333333333333,\"#9c179e\"],[0.4444444444444444,\"#bd3786\"],[0.5555555555555556,\"#d8576b\"],[0.6666666666666666,\"#ed7953\"],[0.7777777777777778,\"#fb9f3a\"],[0.8888888888888888,\"#fdca26\"],[1.0,\"#f0f921\"]],\"type\":\"surface\"}],\"table\":[{\"cells\":{\"fill\":{\"color\":\"#EBF0F8\"},\"line\":{\"color\":\"white\"}},\"header\":{\"fill\":{\"color\":\"#C8D4E3\"},\"line\":{\"color\":\"white\"}},\"type\":\"table\"}]},\"layout\":{\"annotationdefaults\":{\"arrowcolor\":\"#2a3f5f\",\"arrowhead\":0,\"arrowwidth\":1},\"autotypenumbers\":\"strict\",\"coloraxis\":{\"colorbar\":{\"outlinewidth\":0,\"ticks\":\"\"}},\"colorscale\":{\"diverging\":[[0,\"#8e0152\"],[0.1,\"#c51b7d\"],[0.2,\"#de77ae\"],[0.3,\"#f1b6da\"],[0.4,\"#fde0ef\"],[0.5,\"#f7f7f7\"],[0.6,\"#e6f5d0\"],[0.7,\"#b8e186\"],[0.8,\"#7fbc41\"],[0.9,\"#4d9221\"],[1,\"#276419\"]],\"sequential\":[[0.0,\"#0d0887\"],[0.1111111111111111,\"#46039f\"],[0.2222222222222222,\"#7201a8\"],[0.3333333333333333,\"#9c179e\"],[0.4444444444444444,\"#bd3786\"],[0.5555555555555556,\"#d8576b\"],[0.6666666666666666,\"#ed7953\"],[0.7777777777777778,\"#fb9f3a\"],[0.8888888888888888,\"#fdca26\"],[1.0,\"#f0f921\"]],\"sequentialminus\":[[0.0,\"#0d0887\"],[0.1111111111111111,\"#46039f\"],[0.2222222222222222,\"#7201a8\"],[0.3333333333333333,\"#9c179e\"],[0.4444444444444444,\"#bd3786\"],[0.5555555555555556,\"#d8576b\"],[0.6666666666666666,\"#ed7953\"],[0.7777777777777778,\"#fb9f3a\"],[0.8888888888888888,\"#fdca26\"],[1.0,\"#f0f921\"]]},\"colorway\":[\"#636efa\",\"#EF553B\",\"#00cc96\",\"#ab63fa\",\"#FFA15A\",\"#19d3f3\",\"#FF6692\",\"#B6E880\",\"#FF97FF\",\"#FECB52\"],\"font\":{\"color\":\"#2a3f5f\"},\"geo\":{\"bgcolor\":\"white\",\"lakecolor\":\"white\",\"landcolor\":\"#E5ECF6\",\"showlakes\":true,\"showland\":true,\"subunitcolor\":\"white\"},\"hoverlabel\":{\"align\":\"left\"},\"hovermode\":\"closest\",\"mapbox\":{\"style\":\"light\"},\"paper_bgcolor\":\"white\",\"plot_bgcolor\":\"#E5ECF6\",\"polar\":{\"angularaxis\":{\"gridcolor\":\"white\",\"linecolor\":\"white\",\"ticks\":\"\"},\"bgcolor\":\"#E5ECF6\",\"radialaxis\":{\"gridcolor\":\"white\",\"linecolor\":\"white\",\"ticks\":\"\"}},\"scene\":{\"xaxis\":{\"backgroundcolor\":\"#E5ECF6\",\"gridcolor\":\"white\",\"gridwidth\":2,\"linecolor\":\"white\",\"showbackground\":true,\"ticks\":\"\",\"zerolinecolor\":\"white\"},\"yaxis\":{\"backgroundcolor\":\"#E5ECF6\",\"gridcolor\":\"white\",\"gridwidth\":2,\"linecolor\":\"white\",\"showbackground\":true,\"ticks\":\"\",\"zerolinecolor\":\"white\"},\"zaxis\":{\"backgroundcolor\":\"#E5ECF6\",\"gridcolor\":\"white\",\"gridwidth\":2,\"linecolor\":\"white\",\"showbackground\":true,\"ticks\":\"\",\"zerolinecolor\":\"white\"}},\"shapedefaults\":{\"line\":{\"color\":\"#2a3f5f\"}},\"ternary\":{\"aaxis\":{\"gridcolor\":\"white\",\"linecolor\":\"white\",\"ticks\":\"\"},\"baxis\":{\"gridcolor\":\"white\",\"linecolor\":\"white\",\"ticks\":\"\"},\"bgcolor\":\"#E5ECF6\",\"caxis\":{\"gridcolor\":\"white\",\"linecolor\":\"white\",\"ticks\":\"\"}},\"title\":{\"x\":0.05},\"xaxis\":{\"automargin\":true,\"gridcolor\":\"white\",\"linecolor\":\"white\",\"ticks\":\"\",\"title\":{\"standoff\":15},\"zerolinecolor\":\"white\",\"zerolinewidth\":2},\"yaxis\":{\"automargin\":true,\"gridcolor\":\"white\",\"linecolor\":\"white\",\"ticks\":\"\",\"title\":{\"standoff\":15},\"zerolinecolor\":\"white\",\"zerolinewidth\":2}}},\"title\":{\"text\":\"On drug trafficking - change of support if innocent persons have been executed\"},\"font\":{\"size\":10}},                        {\"responsive\": true}                    ).then(function(){\n",
       "                            \n",
       "var gd = document.getElementById('e15914e9-656b-45d7-ac40-c6216fbbec05');\n",
       "var x = new MutationObserver(function (mutations, observer) {{\n",
       "        var display = window.getComputedStyle(gd).display;\n",
       "        if (!display || display === 'none') {{\n",
       "            console.log([gd, 'removed!']);\n",
       "            Plotly.purge(gd);\n",
       "            observer.disconnect();\n",
       "        }}\n",
       "}});\n",
       "\n",
       "// Listen for the removal of the full notebook cells\n",
       "var notebookContainer = gd.closest('#notebook-container');\n",
       "if (notebookContainer) {{\n",
       "    x.observe(notebookContainer, {childList: true});\n",
       "}}\n",
       "\n",
       "// Listen for the clearing of the current output cell\n",
       "var outputEl = gd.closest('.output');\n",
       "if (outputEl) {{\n",
       "    x.observe(outputEl, {childList: true});\n",
       "}}\n",
       "\n",
       "                        })                };                });            </script>        </div>"
      ]
     },
     "metadata": {},
     "output_type": "display_data"
    }
   ],
   "source": [
    "fig = go.Figure(data=[go.Sankey(\n",
    "    node = dict(\n",
    "      pad = 15,\n",
    "      thickness = 50,\n",
    "      line = dict(color = \"black\", width = 0.1),\n",
    "      label = [\"Overall\", \"In favor of dealth penalty\", \"Oppose\", \"Not sure\",\n",
    "               \"Would still favor it\", \"Would then oppose it\", \"Don't know\"],\n",
    "      color = \"blue\",\n",
    "      x = [0.1, 0.5, 0.5, 0.5, 0.9, 0.9, 0.9],\n",
    "      y = [0.5, 0.25, 0.7, 0.85, 0.1, 0.45, 0.75]\n",
    "    ),\n",
    "    link = dict(\n",
    "      source = [0, 0, 0, 1, 1, 1], # indices correspond to labels, eg A1, A2, A1, B1, ...\n",
    "      target = [1, 2, 3, 4, 5, 6],\n",
    "      value = [in_favor, oppose, not_sure,\n",
    "               in_favor * .324, in_favor * .645, in_favor * 0.031]\n",
    "  ))])\n",
    "\n",
    "fig.update_layout(title_text=\"On drug trafficking - change of support if innocent persons have been executed\", font_size=10)\n",
    "fig.show()"
   ]
  },
  {
   "cell_type": "code",
   "execution_count": null,
   "id": "2a4ddfa5",
   "metadata": {},
   "outputs": [],
   "source": []
  }
 ],
 "metadata": {
  "kernelspec": {
   "display_name": "Python 3 (ipykernel)",
   "language": "python",
   "name": "python3"
  },
  "language_info": {
   "codemirror_mode": {
    "name": "ipython",
    "version": 3
   },
   "file_extension": ".py",
   "mimetype": "text/x-python",
   "name": "python",
   "nbconvert_exporter": "python",
   "pygments_lexer": "ipython3",
   "version": "3.8.11"
  }
 },
 "nbformat": 4,
 "nbformat_minor": 5
}
